{
 "cells": [
  {
   "cell_type": "markdown",
   "id": "257bad88",
   "metadata": {},
   "source": [
    "## Objetivo"
   ]
  },
  {
   "cell_type": "markdown",
   "id": "ad1f58bd",
   "metadata": {},
   "source": [
    "El dataset fue extraído de [Kaggle](https://www.kaggle.com/code/nathanoliver/spain-electricity-price-prediction/input).\n",
    "El mismo contiene dos archivos:\n",
    "- **datasets/energy_dataset.csv**; el cual contiene registros históricos sobre:\n",
    "    - Los precios de electricidad en España, medido en Euros por mega watt hora [€/MWh]. \n",
    "    - La generación de electricidad, medida por tipo de orígen (carbón, gas, viento, etc).\n",
    "    - Demanda histórica de energía.\n",
    "- **datasets/weather_features.csv**; el cual contiene registros históricos sobre:\n",
    "    - Temperatura, presión, humedad, viento, lluvia, etc. En distintas ciudades de España.\n",
    "\n",
    "El objetivo será predecir los precios futuros de la energía (**lag 1**)."
   ]
  },
  {
   "cell_type": "markdown",
   "id": "cdca28b1",
   "metadata": {},
   "source": [
    "### Importing Libraries"
   ]
  },
  {
   "cell_type": "code",
   "execution_count": 1,
   "id": "7c6ba7fb",
   "metadata": {},
   "outputs": [],
   "source": [
    "import pandas as pd\n",
    "import numpy as np\n",
    "import scipy.stats as st\n",
    "import pickle\n",
    "import os\n",
    "\n",
    "from pprint import pprint\n",
    "from copy import deepcopy\n",
    "from collections import Counter\n",
    "from collections.abc import Iterable\n",
    "import holidays\n",
    "\n",
    "# Data cleaning\n",
    "from itba_ml.data_processing.data_cleaner import DataCleaner\n",
    "\n",
    "# Plotting\n",
    "import matplotlib.pyplot as plt\n",
    "import seaborn as sns\n",
    "import missingno as msno\n",
    "\n",
    "# Time series analysis\n",
    "from statsmodels.graphics.tsaplots import plot_acf, plot_pacf\n",
    "from statsmodels.tsa.seasonal import seasonal_decompose\n",
    "from statsmodels.tsa.seasonal import STL\n",
    "\n",
    "# Feature Selectionb\n",
    "from boruta import BorutaPy\n",
    "import tsfresh as tsf\n",
    "\n",
    "# Sklearn\n",
    "from sklearn.feature_selection import SelectKBest, f_regression, mutual_info_regression\n",
    "from sklearn.preprocessing import StandardScaler\n",
    "from sklearn.model_selection import TimeSeriesSplit\n",
    "from sklearn.metrics import mean_absolute_percentage_error\n",
    "from sklearn.pipeline import Pipeline\n",
    "\n",
    "# Non-deep learning ML models\n",
    "from sklearn.ensemble import RandomForestRegressor\n",
    "from lightgbm import LGBMRegressor\n",
    "\n",
    "# Deep learning\n",
    "from tensorflow.keras.models import Sequential\n",
    "from tensorflow.keras.layers import Dense, LSTM, Bidirectional, Conv1D\n",
    "from tensorflow.keras.callbacks import EarlyStopping\n",
    "from tensorflow.config.experimental import list_physical_devices\n",
    "from tensorflow.keras.optimizers import Adam\n",
    "\n",
    "# Hyper-parameter tunning\n",
    "from hyperopt import fmin, hp, tpe, STATUS_OK\n",
    "from hyperopt.fmin import generate_trials_to_calculate\n",
    "from hyperopt.pyll.base import scope\n",
    "\n",
    "# Logging\n",
    "from itba_ml.utils.logging_helper import get_logger\n",
    "\n",
    "import warnings\n",
    "warnings.filterwarnings(\"ignore\")"
   ]
  },
  {
   "cell_type": "code",
   "execution_count": 2,
   "id": "20a21ac7",
   "metadata": {},
   "outputs": [],
   "source": [
    "LOGGER = get_logger(\n",
    "    name=__name__,\n",
    "    level='DEBUG'\n",
    ")"
   ]
  },
  {
   "cell_type": "code",
   "execution_count": 3,
   "id": "00a11a36",
   "metadata": {},
   "outputs": [],
   "source": [
    "pd.options.display.max_rows = 100\n",
    "pd.set_option('display.max_columns', None)"
   ]
  },
  {
   "cell_type": "markdown",
   "id": "ea30e844",
   "metadata": {},
   "source": [
    "## Explanatory Data Analysis"
   ]
  },
  {
   "cell_type": "markdown",
   "id": "a6d33415",
   "metadata": {},
   "source": [
    "### Data Loading"
   ]
  },
  {
   "cell_type": "code",
   "execution_count": 4,
   "id": "d7495fd9",
   "metadata": {},
   "outputs": [],
   "source": [
    "# Energy Dataset\n",
    "energy_path = os.path.join(\"..\", \"datasets\", \"energy_dataset.csv\")\n",
    "energy_df = pd.read_csv(energy_path, header=0, parse_dates=[\"time\"])\n",
    "\n",
    "# Weather Features\n",
    "weather_path = os.path.join(\"..\", \"datasets\", \"weather_features.csv\")\n",
    "weather_df = pd.read_csv(weather_path, header=0, parse_dates=[\"dt_iso\"])"
   ]
  },
  {
   "cell_type": "markdown",
   "id": "14ad33d7",
   "metadata": {},
   "source": [
    "### Energy Data - Data Analysis & Data Cleaning"
   ]
  },
  {
   "cell_type": "code",
   "execution_count": 5,
   "id": "1fa4ad27",
   "metadata": {},
   "outputs": [],
   "source": [
    "# Prepare idx\n",
    "energy_df['time'] = pd.to_datetime(energy_df['time'], utc=True, infer_datetime_format=True).dt.tz_localize(None)\n",
    "energy_df.set_index('time', inplace=True)"
   ]
  },
  {
   "cell_type": "markdown",
   "id": "ea4b662d",
   "metadata": {},
   "source": [
    "#### Basic Characteristics"
   ]
  },
  {
   "cell_type": "code",
   "execution_count": 6,
   "id": "be7c474f",
   "metadata": {},
   "outputs": [
    {
     "data": {
      "text/html": [
       "<div>\n",
       "<style scoped>\n",
       "    .dataframe tbody tr th:only-of-type {\n",
       "        vertical-align: middle;\n",
       "    }\n",
       "\n",
       "    .dataframe tbody tr th {\n",
       "        vertical-align: top;\n",
       "    }\n",
       "\n",
       "    .dataframe thead th {\n",
       "        text-align: right;\n",
       "    }\n",
       "</style>\n",
       "<table border=\"1\" class=\"dataframe\">\n",
       "  <thead>\n",
       "    <tr style=\"text-align: right;\">\n",
       "      <th></th>\n",
       "      <th>generation biomass</th>\n",
       "      <th>generation fossil brown coal/lignite</th>\n",
       "      <th>generation fossil coal-derived gas</th>\n",
       "      <th>generation fossil gas</th>\n",
       "      <th>generation fossil hard coal</th>\n",
       "      <th>generation fossil oil</th>\n",
       "      <th>generation fossil oil shale</th>\n",
       "      <th>generation fossil peat</th>\n",
       "      <th>generation geothermal</th>\n",
       "      <th>generation hydro pumped storage aggregated</th>\n",
       "      <th>generation hydro pumped storage consumption</th>\n",
       "      <th>generation hydro run-of-river and poundage</th>\n",
       "      <th>generation hydro water reservoir</th>\n",
       "      <th>generation marine</th>\n",
       "      <th>generation nuclear</th>\n",
       "      <th>generation other</th>\n",
       "      <th>generation other renewable</th>\n",
       "      <th>generation solar</th>\n",
       "      <th>generation waste</th>\n",
       "      <th>generation wind offshore</th>\n",
       "      <th>generation wind onshore</th>\n",
       "      <th>forecast solar day ahead</th>\n",
       "      <th>forecast wind offshore eday ahead</th>\n",
       "      <th>forecast wind onshore day ahead</th>\n",
       "      <th>total load forecast</th>\n",
       "      <th>total load actual</th>\n",
       "      <th>price day ahead</th>\n",
       "      <th>price actual</th>\n",
       "    </tr>\n",
       "    <tr>\n",
       "      <th>time</th>\n",
       "      <th></th>\n",
       "      <th></th>\n",
       "      <th></th>\n",
       "      <th></th>\n",
       "      <th></th>\n",
       "      <th></th>\n",
       "      <th></th>\n",
       "      <th></th>\n",
       "      <th></th>\n",
       "      <th></th>\n",
       "      <th></th>\n",
       "      <th></th>\n",
       "      <th></th>\n",
       "      <th></th>\n",
       "      <th></th>\n",
       "      <th></th>\n",
       "      <th></th>\n",
       "      <th></th>\n",
       "      <th></th>\n",
       "      <th></th>\n",
       "      <th></th>\n",
       "      <th></th>\n",
       "      <th></th>\n",
       "      <th></th>\n",
       "      <th></th>\n",
       "      <th></th>\n",
       "      <th></th>\n",
       "      <th></th>\n",
       "    </tr>\n",
       "  </thead>\n",
       "  <tbody>\n",
       "    <tr>\n",
       "      <th>2014-12-31 23:00:00</th>\n",
       "      <td>447.0</td>\n",
       "      <td>329.0</td>\n",
       "      <td>0.0</td>\n",
       "      <td>4844.0</td>\n",
       "      <td>4821.0</td>\n",
       "      <td>162.0</td>\n",
       "      <td>0.0</td>\n",
       "      <td>0.0</td>\n",
       "      <td>0.0</td>\n",
       "      <td>NaN</td>\n",
       "      <td>863.0</td>\n",
       "      <td>1051.0</td>\n",
       "      <td>1899.0</td>\n",
       "      <td>0.0</td>\n",
       "      <td>7096.0</td>\n",
       "      <td>43.0</td>\n",
       "      <td>73.0</td>\n",
       "      <td>49.0</td>\n",
       "      <td>196.0</td>\n",
       "      <td>0.0</td>\n",
       "      <td>6378.0</td>\n",
       "      <td>17.0</td>\n",
       "      <td>NaN</td>\n",
       "      <td>6436.0</td>\n",
       "      <td>26118.0</td>\n",
       "      <td>25385.0</td>\n",
       "      <td>50.10</td>\n",
       "      <td>65.41</td>\n",
       "    </tr>\n",
       "    <tr>\n",
       "      <th>2015-01-01 00:00:00</th>\n",
       "      <td>449.0</td>\n",
       "      <td>328.0</td>\n",
       "      <td>0.0</td>\n",
       "      <td>5196.0</td>\n",
       "      <td>4755.0</td>\n",
       "      <td>158.0</td>\n",
       "      <td>0.0</td>\n",
       "      <td>0.0</td>\n",
       "      <td>0.0</td>\n",
       "      <td>NaN</td>\n",
       "      <td>920.0</td>\n",
       "      <td>1009.0</td>\n",
       "      <td>1658.0</td>\n",
       "      <td>0.0</td>\n",
       "      <td>7096.0</td>\n",
       "      <td>43.0</td>\n",
       "      <td>71.0</td>\n",
       "      <td>50.0</td>\n",
       "      <td>195.0</td>\n",
       "      <td>0.0</td>\n",
       "      <td>5890.0</td>\n",
       "      <td>16.0</td>\n",
       "      <td>NaN</td>\n",
       "      <td>5856.0</td>\n",
       "      <td>24934.0</td>\n",
       "      <td>24382.0</td>\n",
       "      <td>48.10</td>\n",
       "      <td>64.92</td>\n",
       "    </tr>\n",
       "    <tr>\n",
       "      <th>2015-01-01 01:00:00</th>\n",
       "      <td>448.0</td>\n",
       "      <td>323.0</td>\n",
       "      <td>0.0</td>\n",
       "      <td>4857.0</td>\n",
       "      <td>4581.0</td>\n",
       "      <td>157.0</td>\n",
       "      <td>0.0</td>\n",
       "      <td>0.0</td>\n",
       "      <td>0.0</td>\n",
       "      <td>NaN</td>\n",
       "      <td>1164.0</td>\n",
       "      <td>973.0</td>\n",
       "      <td>1371.0</td>\n",
       "      <td>0.0</td>\n",
       "      <td>7099.0</td>\n",
       "      <td>43.0</td>\n",
       "      <td>73.0</td>\n",
       "      <td>50.0</td>\n",
       "      <td>196.0</td>\n",
       "      <td>0.0</td>\n",
       "      <td>5461.0</td>\n",
       "      <td>8.0</td>\n",
       "      <td>NaN</td>\n",
       "      <td>5454.0</td>\n",
       "      <td>23515.0</td>\n",
       "      <td>22734.0</td>\n",
       "      <td>47.33</td>\n",
       "      <td>64.48</td>\n",
       "    </tr>\n",
       "    <tr>\n",
       "      <th>2015-01-01 02:00:00</th>\n",
       "      <td>438.0</td>\n",
       "      <td>254.0</td>\n",
       "      <td>0.0</td>\n",
       "      <td>4314.0</td>\n",
       "      <td>4131.0</td>\n",
       "      <td>160.0</td>\n",
       "      <td>0.0</td>\n",
       "      <td>0.0</td>\n",
       "      <td>0.0</td>\n",
       "      <td>NaN</td>\n",
       "      <td>1503.0</td>\n",
       "      <td>949.0</td>\n",
       "      <td>779.0</td>\n",
       "      <td>0.0</td>\n",
       "      <td>7098.0</td>\n",
       "      <td>43.0</td>\n",
       "      <td>75.0</td>\n",
       "      <td>50.0</td>\n",
       "      <td>191.0</td>\n",
       "      <td>0.0</td>\n",
       "      <td>5238.0</td>\n",
       "      <td>2.0</td>\n",
       "      <td>NaN</td>\n",
       "      <td>5151.0</td>\n",
       "      <td>22642.0</td>\n",
       "      <td>21286.0</td>\n",
       "      <td>42.27</td>\n",
       "      <td>59.32</td>\n",
       "    </tr>\n",
       "    <tr>\n",
       "      <th>2015-01-01 03:00:00</th>\n",
       "      <td>428.0</td>\n",
       "      <td>187.0</td>\n",
       "      <td>0.0</td>\n",
       "      <td>4130.0</td>\n",
       "      <td>3840.0</td>\n",
       "      <td>156.0</td>\n",
       "      <td>0.0</td>\n",
       "      <td>0.0</td>\n",
       "      <td>0.0</td>\n",
       "      <td>NaN</td>\n",
       "      <td>1826.0</td>\n",
       "      <td>953.0</td>\n",
       "      <td>720.0</td>\n",
       "      <td>0.0</td>\n",
       "      <td>7097.0</td>\n",
       "      <td>43.0</td>\n",
       "      <td>74.0</td>\n",
       "      <td>42.0</td>\n",
       "      <td>189.0</td>\n",
       "      <td>0.0</td>\n",
       "      <td>4935.0</td>\n",
       "      <td>9.0</td>\n",
       "      <td>NaN</td>\n",
       "      <td>4861.0</td>\n",
       "      <td>21785.0</td>\n",
       "      <td>20264.0</td>\n",
       "      <td>38.41</td>\n",
       "      <td>56.04</td>\n",
       "    </tr>\n",
       "  </tbody>\n",
       "</table>\n",
       "</div>"
      ],
      "text/plain": [
       "                     generation biomass  generation fossil brown coal/lignite  \\\n",
       "time                                                                            \n",
       "2014-12-31 23:00:00               447.0                                 329.0   \n",
       "2015-01-01 00:00:00               449.0                                 328.0   \n",
       "2015-01-01 01:00:00               448.0                                 323.0   \n",
       "2015-01-01 02:00:00               438.0                                 254.0   \n",
       "2015-01-01 03:00:00               428.0                                 187.0   \n",
       "\n",
       "                     generation fossil coal-derived gas  \\\n",
       "time                                                      \n",
       "2014-12-31 23:00:00                                 0.0   \n",
       "2015-01-01 00:00:00                                 0.0   \n",
       "2015-01-01 01:00:00                                 0.0   \n",
       "2015-01-01 02:00:00                                 0.0   \n",
       "2015-01-01 03:00:00                                 0.0   \n",
       "\n",
       "                     generation fossil gas  generation fossil hard coal  \\\n",
       "time                                                                      \n",
       "2014-12-31 23:00:00                 4844.0                       4821.0   \n",
       "2015-01-01 00:00:00                 5196.0                       4755.0   \n",
       "2015-01-01 01:00:00                 4857.0                       4581.0   \n",
       "2015-01-01 02:00:00                 4314.0                       4131.0   \n",
       "2015-01-01 03:00:00                 4130.0                       3840.0   \n",
       "\n",
       "                     generation fossil oil  generation fossil oil shale  \\\n",
       "time                                                                      \n",
       "2014-12-31 23:00:00                  162.0                          0.0   \n",
       "2015-01-01 00:00:00                  158.0                          0.0   \n",
       "2015-01-01 01:00:00                  157.0                          0.0   \n",
       "2015-01-01 02:00:00                  160.0                          0.0   \n",
       "2015-01-01 03:00:00                  156.0                          0.0   \n",
       "\n",
       "                     generation fossil peat  generation geothermal  \\\n",
       "time                                                                 \n",
       "2014-12-31 23:00:00                     0.0                    0.0   \n",
       "2015-01-01 00:00:00                     0.0                    0.0   \n",
       "2015-01-01 01:00:00                     0.0                    0.0   \n",
       "2015-01-01 02:00:00                     0.0                    0.0   \n",
       "2015-01-01 03:00:00                     0.0                    0.0   \n",
       "\n",
       "                     generation hydro pumped storage aggregated  \\\n",
       "time                                                              \n",
       "2014-12-31 23:00:00                                         NaN   \n",
       "2015-01-01 00:00:00                                         NaN   \n",
       "2015-01-01 01:00:00                                         NaN   \n",
       "2015-01-01 02:00:00                                         NaN   \n",
       "2015-01-01 03:00:00                                         NaN   \n",
       "\n",
       "                     generation hydro pumped storage consumption  \\\n",
       "time                                                               \n",
       "2014-12-31 23:00:00                                        863.0   \n",
       "2015-01-01 00:00:00                                        920.0   \n",
       "2015-01-01 01:00:00                                       1164.0   \n",
       "2015-01-01 02:00:00                                       1503.0   \n",
       "2015-01-01 03:00:00                                       1826.0   \n",
       "\n",
       "                     generation hydro run-of-river and poundage  \\\n",
       "time                                                              \n",
       "2014-12-31 23:00:00                                      1051.0   \n",
       "2015-01-01 00:00:00                                      1009.0   \n",
       "2015-01-01 01:00:00                                       973.0   \n",
       "2015-01-01 02:00:00                                       949.0   \n",
       "2015-01-01 03:00:00                                       953.0   \n",
       "\n",
       "                     generation hydro water reservoir  generation marine  \\\n",
       "time                                                                       \n",
       "2014-12-31 23:00:00                            1899.0                0.0   \n",
       "2015-01-01 00:00:00                            1658.0                0.0   \n",
       "2015-01-01 01:00:00                            1371.0                0.0   \n",
       "2015-01-01 02:00:00                             779.0                0.0   \n",
       "2015-01-01 03:00:00                             720.0                0.0   \n",
       "\n",
       "                     generation nuclear  generation other  \\\n",
       "time                                                        \n",
       "2014-12-31 23:00:00              7096.0              43.0   \n",
       "2015-01-01 00:00:00              7096.0              43.0   \n",
       "2015-01-01 01:00:00              7099.0              43.0   \n",
       "2015-01-01 02:00:00              7098.0              43.0   \n",
       "2015-01-01 03:00:00              7097.0              43.0   \n",
       "\n",
       "                     generation other renewable  generation solar  \\\n",
       "time                                                                \n",
       "2014-12-31 23:00:00                        73.0              49.0   \n",
       "2015-01-01 00:00:00                        71.0              50.0   \n",
       "2015-01-01 01:00:00                        73.0              50.0   \n",
       "2015-01-01 02:00:00                        75.0              50.0   \n",
       "2015-01-01 03:00:00                        74.0              42.0   \n",
       "\n",
       "                     generation waste  generation wind offshore  \\\n",
       "time                                                              \n",
       "2014-12-31 23:00:00             196.0                       0.0   \n",
       "2015-01-01 00:00:00             195.0                       0.0   \n",
       "2015-01-01 01:00:00             196.0                       0.0   \n",
       "2015-01-01 02:00:00             191.0                       0.0   \n",
       "2015-01-01 03:00:00             189.0                       0.0   \n",
       "\n",
       "                     generation wind onshore  forecast solar day ahead  \\\n",
       "time                                                                     \n",
       "2014-12-31 23:00:00                   6378.0                      17.0   \n",
       "2015-01-01 00:00:00                   5890.0                      16.0   \n",
       "2015-01-01 01:00:00                   5461.0                       8.0   \n",
       "2015-01-01 02:00:00                   5238.0                       2.0   \n",
       "2015-01-01 03:00:00                   4935.0                       9.0   \n",
       "\n",
       "                     forecast wind offshore eday ahead  \\\n",
       "time                                                     \n",
       "2014-12-31 23:00:00                                NaN   \n",
       "2015-01-01 00:00:00                                NaN   \n",
       "2015-01-01 01:00:00                                NaN   \n",
       "2015-01-01 02:00:00                                NaN   \n",
       "2015-01-01 03:00:00                                NaN   \n",
       "\n",
       "                     forecast wind onshore day ahead  total load forecast  \\\n",
       "time                                                                        \n",
       "2014-12-31 23:00:00                           6436.0              26118.0   \n",
       "2015-01-01 00:00:00                           5856.0              24934.0   \n",
       "2015-01-01 01:00:00                           5454.0              23515.0   \n",
       "2015-01-01 02:00:00                           5151.0              22642.0   \n",
       "2015-01-01 03:00:00                           4861.0              21785.0   \n",
       "\n",
       "                     total load actual  price day ahead  price actual  \n",
       "time                                                                   \n",
       "2014-12-31 23:00:00            25385.0            50.10         65.41  \n",
       "2015-01-01 00:00:00            24382.0            48.10         64.92  \n",
       "2015-01-01 01:00:00            22734.0            47.33         64.48  \n",
       "2015-01-01 02:00:00            21286.0            42.27         59.32  \n",
       "2015-01-01 03:00:00            20264.0            38.41         56.04  "
      ]
     },
     "execution_count": 6,
     "metadata": {},
     "output_type": "execute_result"
    }
   ],
   "source": [
    "energy_df.head()"
   ]
  },
  {
   "cell_type": "code",
   "execution_count": 7,
   "id": "80b24952",
   "metadata": {},
   "outputs": [
    {
     "data": {
      "text/html": [
       "<div>\n",
       "<style scoped>\n",
       "    .dataframe tbody tr th:only-of-type {\n",
       "        vertical-align: middle;\n",
       "    }\n",
       "\n",
       "    .dataframe tbody tr th {\n",
       "        vertical-align: top;\n",
       "    }\n",
       "\n",
       "    .dataframe thead th {\n",
       "        text-align: right;\n",
       "    }\n",
       "</style>\n",
       "<table border=\"1\" class=\"dataframe\">\n",
       "  <thead>\n",
       "    <tr style=\"text-align: right;\">\n",
       "      <th></th>\n",
       "      <th>generation biomass</th>\n",
       "      <th>generation fossil brown coal/lignite</th>\n",
       "      <th>generation fossil coal-derived gas</th>\n",
       "      <th>generation fossil gas</th>\n",
       "      <th>generation fossil hard coal</th>\n",
       "      <th>generation fossil oil</th>\n",
       "      <th>generation fossil oil shale</th>\n",
       "      <th>generation fossil peat</th>\n",
       "      <th>generation geothermal</th>\n",
       "      <th>generation hydro pumped storage aggregated</th>\n",
       "      <th>generation hydro pumped storage consumption</th>\n",
       "      <th>generation hydro run-of-river and poundage</th>\n",
       "      <th>generation hydro water reservoir</th>\n",
       "      <th>generation marine</th>\n",
       "      <th>generation nuclear</th>\n",
       "      <th>generation other</th>\n",
       "      <th>generation other renewable</th>\n",
       "      <th>generation solar</th>\n",
       "      <th>generation waste</th>\n",
       "      <th>generation wind offshore</th>\n",
       "      <th>generation wind onshore</th>\n",
       "      <th>forecast solar day ahead</th>\n",
       "      <th>forecast wind offshore eday ahead</th>\n",
       "      <th>forecast wind onshore day ahead</th>\n",
       "      <th>total load forecast</th>\n",
       "      <th>total load actual</th>\n",
       "      <th>price day ahead</th>\n",
       "      <th>price actual</th>\n",
       "    </tr>\n",
       "  </thead>\n",
       "  <tbody>\n",
       "    <tr>\n",
       "      <th>count</th>\n",
       "      <td>35045.000000</td>\n",
       "      <td>35046.000000</td>\n",
       "      <td>35046.0</td>\n",
       "      <td>35046.000000</td>\n",
       "      <td>35046.000000</td>\n",
       "      <td>35045.000000</td>\n",
       "      <td>35046.0</td>\n",
       "      <td>35046.0</td>\n",
       "      <td>35046.0</td>\n",
       "      <td>0.0</td>\n",
       "      <td>35045.000000</td>\n",
       "      <td>35045.000000</td>\n",
       "      <td>35046.000000</td>\n",
       "      <td>35045.0</td>\n",
       "      <td>35047.000000</td>\n",
       "      <td>35046.000000</td>\n",
       "      <td>35046.000000</td>\n",
       "      <td>35046.000000</td>\n",
       "      <td>35045.000000</td>\n",
       "      <td>35046.0</td>\n",
       "      <td>35046.000000</td>\n",
       "      <td>35064.000000</td>\n",
       "      <td>0.0</td>\n",
       "      <td>35064.000000</td>\n",
       "      <td>35064.000000</td>\n",
       "      <td>35028.000000</td>\n",
       "      <td>35064.000000</td>\n",
       "      <td>35064.000000</td>\n",
       "    </tr>\n",
       "    <tr>\n",
       "      <th>mean</th>\n",
       "      <td>383.513540</td>\n",
       "      <td>448.059208</td>\n",
       "      <td>0.0</td>\n",
       "      <td>5622.737488</td>\n",
       "      <td>4256.065742</td>\n",
       "      <td>298.319789</td>\n",
       "      <td>0.0</td>\n",
       "      <td>0.0</td>\n",
       "      <td>0.0</td>\n",
       "      <td>NaN</td>\n",
       "      <td>475.577343</td>\n",
       "      <td>972.116108</td>\n",
       "      <td>2605.114735</td>\n",
       "      <td>0.0</td>\n",
       "      <td>6263.907039</td>\n",
       "      <td>60.228585</td>\n",
       "      <td>85.639702</td>\n",
       "      <td>1432.665925</td>\n",
       "      <td>269.452133</td>\n",
       "      <td>0.0</td>\n",
       "      <td>5464.479769</td>\n",
       "      <td>1439.066735</td>\n",
       "      <td>NaN</td>\n",
       "      <td>5471.216689</td>\n",
       "      <td>28712.129962</td>\n",
       "      <td>28696.939905</td>\n",
       "      <td>49.874341</td>\n",
       "      <td>57.884023</td>\n",
       "    </tr>\n",
       "    <tr>\n",
       "      <th>std</th>\n",
       "      <td>85.353943</td>\n",
       "      <td>354.568590</td>\n",
       "      <td>0.0</td>\n",
       "      <td>2201.830478</td>\n",
       "      <td>1961.601013</td>\n",
       "      <td>52.520673</td>\n",
       "      <td>0.0</td>\n",
       "      <td>0.0</td>\n",
       "      <td>0.0</td>\n",
       "      <td>NaN</td>\n",
       "      <td>792.406614</td>\n",
       "      <td>400.777536</td>\n",
       "      <td>1835.199745</td>\n",
       "      <td>0.0</td>\n",
       "      <td>839.667958</td>\n",
       "      <td>20.238381</td>\n",
       "      <td>14.077554</td>\n",
       "      <td>1680.119887</td>\n",
       "      <td>50.195536</td>\n",
       "      <td>0.0</td>\n",
       "      <td>3213.691587</td>\n",
       "      <td>1677.703355</td>\n",
       "      <td>NaN</td>\n",
       "      <td>3176.312853</td>\n",
       "      <td>4594.100854</td>\n",
       "      <td>4574.987950</td>\n",
       "      <td>14.618900</td>\n",
       "      <td>14.204083</td>\n",
       "    </tr>\n",
       "    <tr>\n",
       "      <th>min</th>\n",
       "      <td>0.000000</td>\n",
       "      <td>0.000000</td>\n",
       "      <td>0.0</td>\n",
       "      <td>0.000000</td>\n",
       "      <td>0.000000</td>\n",
       "      <td>0.000000</td>\n",
       "      <td>0.0</td>\n",
       "      <td>0.0</td>\n",
       "      <td>0.0</td>\n",
       "      <td>NaN</td>\n",
       "      <td>0.000000</td>\n",
       "      <td>0.000000</td>\n",
       "      <td>0.000000</td>\n",
       "      <td>0.0</td>\n",
       "      <td>0.000000</td>\n",
       "      <td>0.000000</td>\n",
       "      <td>0.000000</td>\n",
       "      <td>0.000000</td>\n",
       "      <td>0.000000</td>\n",
       "      <td>0.0</td>\n",
       "      <td>0.000000</td>\n",
       "      <td>0.000000</td>\n",
       "      <td>NaN</td>\n",
       "      <td>237.000000</td>\n",
       "      <td>18105.000000</td>\n",
       "      <td>18041.000000</td>\n",
       "      <td>2.060000</td>\n",
       "      <td>9.330000</td>\n",
       "    </tr>\n",
       "    <tr>\n",
       "      <th>25%</th>\n",
       "      <td>333.000000</td>\n",
       "      <td>0.000000</td>\n",
       "      <td>0.0</td>\n",
       "      <td>4126.000000</td>\n",
       "      <td>2527.000000</td>\n",
       "      <td>263.000000</td>\n",
       "      <td>0.0</td>\n",
       "      <td>0.0</td>\n",
       "      <td>0.0</td>\n",
       "      <td>NaN</td>\n",
       "      <td>0.000000</td>\n",
       "      <td>637.000000</td>\n",
       "      <td>1077.250000</td>\n",
       "      <td>0.0</td>\n",
       "      <td>5760.000000</td>\n",
       "      <td>53.000000</td>\n",
       "      <td>73.000000</td>\n",
       "      <td>71.000000</td>\n",
       "      <td>240.000000</td>\n",
       "      <td>0.0</td>\n",
       "      <td>2933.000000</td>\n",
       "      <td>69.000000</td>\n",
       "      <td>NaN</td>\n",
       "      <td>2979.000000</td>\n",
       "      <td>24793.750000</td>\n",
       "      <td>24807.750000</td>\n",
       "      <td>41.490000</td>\n",
       "      <td>49.347500</td>\n",
       "    </tr>\n",
       "    <tr>\n",
       "      <th>50%</th>\n",
       "      <td>367.000000</td>\n",
       "      <td>509.000000</td>\n",
       "      <td>0.0</td>\n",
       "      <td>4969.000000</td>\n",
       "      <td>4474.000000</td>\n",
       "      <td>300.000000</td>\n",
       "      <td>0.0</td>\n",
       "      <td>0.0</td>\n",
       "      <td>0.0</td>\n",
       "      <td>NaN</td>\n",
       "      <td>68.000000</td>\n",
       "      <td>906.000000</td>\n",
       "      <td>2164.000000</td>\n",
       "      <td>0.0</td>\n",
       "      <td>6566.000000</td>\n",
       "      <td>57.000000</td>\n",
       "      <td>88.000000</td>\n",
       "      <td>616.000000</td>\n",
       "      <td>279.000000</td>\n",
       "      <td>0.0</td>\n",
       "      <td>4849.000000</td>\n",
       "      <td>576.000000</td>\n",
       "      <td>NaN</td>\n",
       "      <td>4855.000000</td>\n",
       "      <td>28906.000000</td>\n",
       "      <td>28901.000000</td>\n",
       "      <td>50.520000</td>\n",
       "      <td>58.020000</td>\n",
       "    </tr>\n",
       "    <tr>\n",
       "      <th>75%</th>\n",
       "      <td>433.000000</td>\n",
       "      <td>757.000000</td>\n",
       "      <td>0.0</td>\n",
       "      <td>6429.000000</td>\n",
       "      <td>5838.750000</td>\n",
       "      <td>330.000000</td>\n",
       "      <td>0.0</td>\n",
       "      <td>0.0</td>\n",
       "      <td>0.0</td>\n",
       "      <td>NaN</td>\n",
       "      <td>616.000000</td>\n",
       "      <td>1250.000000</td>\n",
       "      <td>3757.000000</td>\n",
       "      <td>0.0</td>\n",
       "      <td>7025.000000</td>\n",
       "      <td>80.000000</td>\n",
       "      <td>97.000000</td>\n",
       "      <td>2578.000000</td>\n",
       "      <td>310.000000</td>\n",
       "      <td>0.0</td>\n",
       "      <td>7398.000000</td>\n",
       "      <td>2636.000000</td>\n",
       "      <td>NaN</td>\n",
       "      <td>7353.000000</td>\n",
       "      <td>32263.250000</td>\n",
       "      <td>32192.000000</td>\n",
       "      <td>60.530000</td>\n",
       "      <td>68.010000</td>\n",
       "    </tr>\n",
       "    <tr>\n",
       "      <th>max</th>\n",
       "      <td>592.000000</td>\n",
       "      <td>999.000000</td>\n",
       "      <td>0.0</td>\n",
       "      <td>20034.000000</td>\n",
       "      <td>8359.000000</td>\n",
       "      <td>449.000000</td>\n",
       "      <td>0.0</td>\n",
       "      <td>0.0</td>\n",
       "      <td>0.0</td>\n",
       "      <td>NaN</td>\n",
       "      <td>4523.000000</td>\n",
       "      <td>2000.000000</td>\n",
       "      <td>9728.000000</td>\n",
       "      <td>0.0</td>\n",
       "      <td>7117.000000</td>\n",
       "      <td>106.000000</td>\n",
       "      <td>119.000000</td>\n",
       "      <td>5792.000000</td>\n",
       "      <td>357.000000</td>\n",
       "      <td>0.0</td>\n",
       "      <td>17436.000000</td>\n",
       "      <td>5836.000000</td>\n",
       "      <td>NaN</td>\n",
       "      <td>17430.000000</td>\n",
       "      <td>41390.000000</td>\n",
       "      <td>41015.000000</td>\n",
       "      <td>101.990000</td>\n",
       "      <td>116.800000</td>\n",
       "    </tr>\n",
       "  </tbody>\n",
       "</table>\n",
       "</div>"
      ],
      "text/plain": [
       "       generation biomass  generation fossil brown coal/lignite  \\\n",
       "count        35045.000000                          35046.000000   \n",
       "mean           383.513540                            448.059208   \n",
       "std             85.353943                            354.568590   \n",
       "min              0.000000                              0.000000   \n",
       "25%            333.000000                              0.000000   \n",
       "50%            367.000000                            509.000000   \n",
       "75%            433.000000                            757.000000   \n",
       "max            592.000000                            999.000000   \n",
       "\n",
       "       generation fossil coal-derived gas  generation fossil gas  \\\n",
       "count                             35046.0           35046.000000   \n",
       "mean                                  0.0            5622.737488   \n",
       "std                                   0.0            2201.830478   \n",
       "min                                   0.0               0.000000   \n",
       "25%                                   0.0            4126.000000   \n",
       "50%                                   0.0            4969.000000   \n",
       "75%                                   0.0            6429.000000   \n",
       "max                                   0.0           20034.000000   \n",
       "\n",
       "       generation fossil hard coal  generation fossil oil  \\\n",
       "count                 35046.000000           35045.000000   \n",
       "mean                   4256.065742             298.319789   \n",
       "std                    1961.601013              52.520673   \n",
       "min                       0.000000               0.000000   \n",
       "25%                    2527.000000             263.000000   \n",
       "50%                    4474.000000             300.000000   \n",
       "75%                    5838.750000             330.000000   \n",
       "max                    8359.000000             449.000000   \n",
       "\n",
       "       generation fossil oil shale  generation fossil peat  \\\n",
       "count                      35046.0                 35046.0   \n",
       "mean                           0.0                     0.0   \n",
       "std                            0.0                     0.0   \n",
       "min                            0.0                     0.0   \n",
       "25%                            0.0                     0.0   \n",
       "50%                            0.0                     0.0   \n",
       "75%                            0.0                     0.0   \n",
       "max                            0.0                     0.0   \n",
       "\n",
       "       generation geothermal  generation hydro pumped storage aggregated  \\\n",
       "count                35046.0                                         0.0   \n",
       "mean                     0.0                                         NaN   \n",
       "std                      0.0                                         NaN   \n",
       "min                      0.0                                         NaN   \n",
       "25%                      0.0                                         NaN   \n",
       "50%                      0.0                                         NaN   \n",
       "75%                      0.0                                         NaN   \n",
       "max                      0.0                                         NaN   \n",
       "\n",
       "       generation hydro pumped storage consumption  \\\n",
       "count                                 35045.000000   \n",
       "mean                                    475.577343   \n",
       "std                                     792.406614   \n",
       "min                                       0.000000   \n",
       "25%                                       0.000000   \n",
       "50%                                      68.000000   \n",
       "75%                                     616.000000   \n",
       "max                                    4523.000000   \n",
       "\n",
       "       generation hydro run-of-river and poundage  \\\n",
       "count                                35045.000000   \n",
       "mean                                   972.116108   \n",
       "std                                    400.777536   \n",
       "min                                      0.000000   \n",
       "25%                                    637.000000   \n",
       "50%                                    906.000000   \n",
       "75%                                   1250.000000   \n",
       "max                                   2000.000000   \n",
       "\n",
       "       generation hydro water reservoir  generation marine  \\\n",
       "count                      35046.000000            35045.0   \n",
       "mean                        2605.114735                0.0   \n",
       "std                         1835.199745                0.0   \n",
       "min                            0.000000                0.0   \n",
       "25%                         1077.250000                0.0   \n",
       "50%                         2164.000000                0.0   \n",
       "75%                         3757.000000                0.0   \n",
       "max                         9728.000000                0.0   \n",
       "\n",
       "       generation nuclear  generation other  generation other renewable  \\\n",
       "count        35047.000000      35046.000000                35046.000000   \n",
       "mean          6263.907039         60.228585                   85.639702   \n",
       "std            839.667958         20.238381                   14.077554   \n",
       "min              0.000000          0.000000                    0.000000   \n",
       "25%           5760.000000         53.000000                   73.000000   \n",
       "50%           6566.000000         57.000000                   88.000000   \n",
       "75%           7025.000000         80.000000                   97.000000   \n",
       "max           7117.000000        106.000000                  119.000000   \n",
       "\n",
       "       generation solar  generation waste  generation wind offshore  \\\n",
       "count      35046.000000      35045.000000                   35046.0   \n",
       "mean        1432.665925        269.452133                       0.0   \n",
       "std         1680.119887         50.195536                       0.0   \n",
       "min            0.000000          0.000000                       0.0   \n",
       "25%           71.000000        240.000000                       0.0   \n",
       "50%          616.000000        279.000000                       0.0   \n",
       "75%         2578.000000        310.000000                       0.0   \n",
       "max         5792.000000        357.000000                       0.0   \n",
       "\n",
       "       generation wind onshore  forecast solar day ahead  \\\n",
       "count             35046.000000              35064.000000   \n",
       "mean               5464.479769               1439.066735   \n",
       "std                3213.691587               1677.703355   \n",
       "min                   0.000000                  0.000000   \n",
       "25%                2933.000000                 69.000000   \n",
       "50%                4849.000000                576.000000   \n",
       "75%                7398.000000               2636.000000   \n",
       "max               17436.000000               5836.000000   \n",
       "\n",
       "       forecast wind offshore eday ahead  forecast wind onshore day ahead  \\\n",
       "count                                0.0                     35064.000000   \n",
       "mean                                 NaN                      5471.216689   \n",
       "std                                  NaN                      3176.312853   \n",
       "min                                  NaN                       237.000000   \n",
       "25%                                  NaN                      2979.000000   \n",
       "50%                                  NaN                      4855.000000   \n",
       "75%                                  NaN                      7353.000000   \n",
       "max                                  NaN                     17430.000000   \n",
       "\n",
       "       total load forecast  total load actual  price day ahead  price actual  \n",
       "count         35064.000000       35028.000000     35064.000000  35064.000000  \n",
       "mean          28712.129962       28696.939905        49.874341     57.884023  \n",
       "std            4594.100854        4574.987950        14.618900     14.204083  \n",
       "min           18105.000000       18041.000000         2.060000      9.330000  \n",
       "25%           24793.750000       24807.750000        41.490000     49.347500  \n",
       "50%           28906.000000       28901.000000        50.520000     58.020000  \n",
       "75%           32263.250000       32192.000000        60.530000     68.010000  \n",
       "max           41390.000000       41015.000000       101.990000    116.800000  "
      ]
     },
     "execution_count": 7,
     "metadata": {},
     "output_type": "execute_result"
    }
   ],
   "source": [
    "energy_df.describe()"
   ]
  },
  {
   "cell_type": "code",
   "execution_count": 8,
   "id": "777a5f61",
   "metadata": {},
   "outputs": [
    {
     "name": "stdout",
     "output_type": "stream",
     "text": [
      "<class 'pandas.core.frame.DataFrame'>\n",
      "DatetimeIndex: 35064 entries, 2014-12-31 23:00:00 to 2018-12-31 22:00:00\n",
      "Data columns (total 28 columns):\n",
      " #   Column                                       Non-Null Count  Dtype  \n",
      "---  ------                                       --------------  -----  \n",
      " 0   generation biomass                           35045 non-null  float64\n",
      " 1   generation fossil brown coal/lignite         35046 non-null  float64\n",
      " 2   generation fossil coal-derived gas           35046 non-null  float64\n",
      " 3   generation fossil gas                        35046 non-null  float64\n",
      " 4   generation fossil hard coal                  35046 non-null  float64\n",
      " 5   generation fossil oil                        35045 non-null  float64\n",
      " 6   generation fossil oil shale                  35046 non-null  float64\n",
      " 7   generation fossil peat                       35046 non-null  float64\n",
      " 8   generation geothermal                        35046 non-null  float64\n",
      " 9   generation hydro pumped storage aggregated   0 non-null      float64\n",
      " 10  generation hydro pumped storage consumption  35045 non-null  float64\n",
      " 11  generation hydro run-of-river and poundage   35045 non-null  float64\n",
      " 12  generation hydro water reservoir             35046 non-null  float64\n",
      " 13  generation marine                            35045 non-null  float64\n",
      " 14  generation nuclear                           35047 non-null  float64\n",
      " 15  generation other                             35046 non-null  float64\n",
      " 16  generation other renewable                   35046 non-null  float64\n",
      " 17  generation solar                             35046 non-null  float64\n",
      " 18  generation waste                             35045 non-null  float64\n",
      " 19  generation wind offshore                     35046 non-null  float64\n",
      " 20  generation wind onshore                      35046 non-null  float64\n",
      " 21  forecast solar day ahead                     35064 non-null  float64\n",
      " 22  forecast wind offshore eday ahead            0 non-null      float64\n",
      " 23  forecast wind onshore day ahead              35064 non-null  float64\n",
      " 24  total load forecast                          35064 non-null  float64\n",
      " 25  total load actual                            35028 non-null  float64\n",
      " 26  price day ahead                              35064 non-null  float64\n",
      " 27  price actual                                 35064 non-null  float64\n",
      "dtypes: float64(28)\n",
      "memory usage: 7.8 MB\n"
     ]
    }
   ],
   "source": [
    "energy_df.info()"
   ]
  },
  {
   "cell_type": "markdown",
   "id": "eb3677ca",
   "metadata": {},
   "source": [
    "#### Missing Values\n",
    "- We observe two empty feature columns. On the right-hand side, we notice a few gaps in individual rows of the other columns."
   ]
  },
  {
   "cell_type": "code",
   "execution_count": 9,
   "id": "93af10c5",
   "metadata": {},
   "outputs": [
    {
     "data": {
      "text/plain": [
       "<Axes: >"
      ]
     },
     "execution_count": 9,
     "metadata": {},
     "output_type": "execute_result"
    },
    {
     "data": {
      "image/png": "[encoded data removed]",
      "text/plain": [
       "<Figure size 2500x1000 with 2 Axes>"
      ]
     },
     "metadata": {},
     "output_type": "display_data"
    }
   ],
   "source": [
    "msno.matrix(energy_df)"
   ]
  },
  {
   "cell_type": "markdown",
   "id": "c3d7fb42",
   "metadata": {},
   "source": [
    "### Data Cleaning"
   ]
  },
  {
   "cell_type": "code",
   "execution_count": 10,
   "id": "222339b2",
   "metadata": {},
   "outputs": [],
   "source": [
    "DC = DataCleaner(df=energy_df)"
   ]
  },
  {
   "cell_type": "code",
   "execution_count": 11,
   "id": "cf36e69f",
   "metadata": {},
   "outputs": [],
   "source": [
    "# Drop columns with:\n",
    "#   - All null values\n",
    "#   - All 0 values\n",
    "#   - Drop forecast columns\n",
    "\n",
    "DC.drop_unuseful_columns(\n",
    "    drop_columns=energy_df.filter(regex=\"forecast\").columns\n",
    ")"
   ]
  },
  {
   "cell_type": "code",
   "execution_count": 12,
   "id": "c43b753f",
   "metadata": {},
   "outputs": [],
   "source": [
    "# Fill null values:\n",
    "#   - interpolating numerical columns\n",
    "#   - filling categorical columns with mode\n",
    "\n",
    "DC.fill_null_values(method='interpolate')"
   ]
  },
  {
   "cell_type": "code",
   "execution_count": 13,
   "id": "ba9fab25",
   "metadata": {},
   "outputs": [],
   "source": [
    "# Rename columns\n",
    "rename_dict = {\n",
    "    'generation biomass': 'gen_bio', \n",
    "    'generation fossil brown coal/lignite': 'gen_lig', \n",
    "    'generation fossil coal-derived gas': 'gen_coal_gas', \n",
    "    'generation fossil gas': 'gen_gas', \n",
    "    'generation fossil hard coal': 'gen_coal', \n",
    "    'generation fossil oil': 'gen_oil', \n",
    "    'generation fossil oil shale': 'gen_oil_shale', \n",
    "    'generation fossil peat': 'gen_peat', \n",
    "    'generation geothermal': 'gen_geo', \n",
    "    'generation hydro pumped storage consumption': 'gen_hyd_pump', \n",
    "    'generation hydro run-of-river and poundage': 'gen_hyd_river', \n",
    "    'generation hydro water reservoir': 'gen_hyd_res', \n",
    "    'generation marine': 'gen_mar', \n",
    "    'generation nuclear': 'gen_nuc', \n",
    "    'generation other': 'gen_other', \n",
    "    'generation other renewable': 'gen_oth_renew', \n",
    "    'generation solar': 'gen_sol', \n",
    "    'generation waste': 'gen_waste', \n",
    "    'generation wind offshore': 'gen_wind_off', \n",
    "    'generation wind onshore': 'gen_wind_on', \n",
    "    'total load actual': 'load_actual', \n",
    "    'price day ahead': 'price_dayahead', \n",
    "    'price actual': 'price'\n",
    "}\n",
    "\n",
    "DC.rename_columns(rename_dict=rename_dict)"
   ]
  },
  {
   "cell_type": "code",
   "execution_count": 15,
   "id": "6f52a590",
   "metadata": {},
   "outputs": [
    {
     "name": "stdout",
     "output_type": "stream",
     "text": [
      "__main__: \u001b[37m2024-05-05 13:27:48,484\u001b[0m | \u001b[32mINFO\u001b[0m | \u001b[34m3171496937.py:8\u001b[0m | \u001b[32mDuplicated idxs: 0\u001b[0m\n"
     ]
    }
   ],
   "source": [
    "# Drop duplicates:\n",
    "#   - Duplicate idxs\n",
    "#   - Duplicated columns\n",
    "\n",
    "DC.remove_duplicates()\n",
    "\n",
    "# Show duplicated idxs\n",
    "LOGGER.info(\"Duplicated idxs: %s\", DC.df.loc[DC.df.index.duplicated()].shape[0])"
   ]
  },
  {
   "cell_type": "code",
   "execution_count": null,
   "id": "862074be",
   "metadata": {},
   "outputs": [],
   "source": [
    "# Remove outliers\n",
    "#   - Remove that values are over 2.5 stds from the mean\n",
    "\n",
    "DC.drop_outliers()\n",
    "\n",
    "# Show max values\n",
    "LOGGER.info(\"Duplicated idxs: %s\", DC.df.loc[DC.df.index.duplicated()].shape[0])"
   ]
  },
  {
   "cell_type": "markdown",
   "id": "3f9c788b",
   "metadata": {},
   "source": [
    "#### Extreme values"
   ]
  },
  {
   "cell_type": "code",
   "execution_count": null,
   "id": "2c143ee5",
   "metadata": {},
   "outputs": [],
   "source": [
    "# Calculate the absolute z_scores\n",
    "z_scores = np.abs(st.zscore(energy_df))"
   ]
  },
  {
   "cell_type": "code",
   "execution_count": null,
   "id": "74b27545",
   "metadata": {},
   "outputs": [],
   "source": [
    "z_scores.head()"
   ]
  },
  {
   "cell_type": "code",
   "execution_count": null,
   "id": "9857b410",
   "metadata": {},
   "outputs": [],
   "source": [
    "# Remove values where z_score is over 2.5 stdev\n",
    "for col in energy_df.columns:\n",
    "    energy_df.loc[z_scores[col] > 2.5] = np.nan"
   ]
  },
  {
   "cell_type": "code",
   "execution_count": null,
   "id": "e915ed79",
   "metadata": {},
   "outputs": [],
   "source": [
    "# Replace outliers with mean/median values for that column\n",
    "means_dict = {col: energy_df[col].median() for col in energy_df.columns}"
   ]
  },
  {
   "cell_type": "code",
   "execution_count": null,
   "id": "9ed8275d",
   "metadata": {},
   "outputs": [],
   "source": [
    "energy_df.fillna(value=means_dict, inplace=True)"
   ]
  },
  {
   "cell_type": "code",
   "execution_count": null,
   "id": "d2149f8c",
   "metadata": {},
   "outputs": [],
   "source": [
    "energy_df.describe()"
   ]
  },
  {
   "cell_type": "markdown",
   "id": "c76062b5",
   "metadata": {},
   "source": [
    "### Target Anlysis\n",
    "- A lineplot of the hourly prices shows that the curve that does not appear to follow a stable long-term trend or a single seasonality pattern, but fluctuates around a mean price of €60. \n",
    "- Since we deal with hourly prices, there might also be seasonalities related to **hours**, **weekdays** & **months**"
   ]
  },
  {
   "cell_type": "code",
   "execution_count": null,
   "id": "7e995742",
   "metadata": {},
   "outputs": [],
   "source": [
    "plt.figure(100, figsize=(20, 7))\n",
    "sns.lineplot(\n",
    "    x=\"time\", \n",
    "    y=\"price\", \n",
    "    data=energy_df, \n",
    "    palette=\"coolwarm\"\n",
    ")"
   ]
  },
  {
   "cell_type": "markdown",
   "id": "ab1df2e8",
   "metadata": {},
   "source": [
    "#### Auto-Correlations & Partial Auto-Correlations\n",
    "- Both plots show statistically significant AC values and PAC values\n",
    "- This indicates that the data is autocorrelated, which could imply that there are some seasonality effects."
   ]
  },
  {
   "cell_type": "code",
   "execution_count": null,
   "id": "f20bb30f",
   "metadata": {},
   "outputs": [],
   "source": [
    "plt.figure(100, figsize=(20, 7))\n",
    "plot_acf(energy_df['price'], lags=20, alpha=0.05)\n",
    "plt.show()"
   ]
  },
  {
   "cell_type": "code",
   "execution_count": null,
   "id": "b7df125b",
   "metadata": {},
   "outputs": [],
   "source": [
    "plot_pacf(energy_df['price'], lags=20, alpha=0.05)\n",
    "plt.show()"
   ]
  },
  {
   "cell_type": "markdown",
   "id": "69adbfd9",
   "metadata": {},
   "source": [
    "#### Seasonal decomposition\n",
    "- Decomposing the time series with both **weekly** and **monthly** frequencies portray a decisive seasonality component for the time series."
   ]
  },
  {
   "cell_type": "code",
   "execution_count": null,
   "id": "d1d65714",
   "metadata": {},
   "outputs": [],
   "source": [
    "# Define data to plot\n",
    "last_year = energy_df.loc[energy_df.index > '2018', 'price']"
   ]
  },
  {
   "cell_type": "code",
   "execution_count": null,
   "id": "5d1679e6",
   "metadata": {},
   "outputs": [],
   "source": [
    "# Plot Weekly frequency\n",
    "decomp = seasonal_decompose(last_year, period=24*7)\n",
    "\n",
    "decomp.plot()\n",
    "plt.show()"
   ]
  },
  {
   "cell_type": "code",
   "execution_count": null,
   "id": "7f34bf4c",
   "metadata": {},
   "outputs": [],
   "source": [
    "# Plot Monthly frequency\n",
    "decomp = seasonal_decompose(last_year, period=24*30)\n",
    "\n",
    "decomp.plot()\n",
    "plt.show()"
   ]
  },
  {
   "cell_type": "markdown",
   "id": "f3c7d0f6",
   "metadata": {},
   "source": [
    "### Weather Data - Data Analysis & Data Cleaning"
   ]
  },
  {
   "cell_type": "code",
   "execution_count": null,
   "id": "74314864",
   "metadata": {},
   "outputs": [],
   "source": [
    "# Prepare idx\n",
    "weather_df['dt_iso'] = pd.to_datetime(weather_df['dt_iso'], utc=True, infer_datetime_format=True).dt.tz_localize(None)\n",
    "weather_df.set_index('dt_iso', inplace=True)"
   ]
  },
  {
   "cell_type": "markdown",
   "id": "f5d8a109",
   "metadata": {},
   "source": [
    "#### Basic Characteristics"
   ]
  },
  {
   "cell_type": "code",
   "execution_count": null,
   "id": "296f8d6d",
   "metadata": {},
   "outputs": [],
   "source": [
    "weather_df.head()"
   ]
  },
  {
   "cell_type": "code",
   "execution_count": null,
   "id": "a12e6e04",
   "metadata": {},
   "outputs": [],
   "source": [
    "weather_df.city_name.unique()"
   ]
  },
  {
   "cell_type": "code",
   "execution_count": null,
   "id": "49d3e5e1",
   "metadata": {},
   "outputs": [],
   "source": [
    "weather_df.describe()"
   ]
  },
  {
   "cell_type": "code",
   "execution_count": null,
   "id": "52c23717",
   "metadata": {},
   "outputs": [],
   "source": [
    "weather_df.info()"
   ]
  },
  {
   "cell_type": "markdown",
   "id": "bf3615f8",
   "metadata": {},
   "source": [
    "#### Missing Values\n",
    "- No missing values were found"
   ]
  },
  {
   "cell_type": "code",
   "execution_count": null,
   "id": "0066a5c7",
   "metadata": {},
   "outputs": [],
   "source": [
    "msno.matrix(weather_df)"
   ]
  },
  {
   "cell_type": "code",
   "execution_count": null,
   "id": "2e89ef86",
   "metadata": {},
   "outputs": [],
   "source": [
    "# Drop columns with all values equal to 0\n",
    "weather_df = weather_df.loc[:, (weather_df!=0).any(axis=0)]"
   ]
  },
  {
   "cell_type": "markdown",
   "id": "f5d4fc65",
   "metadata": {},
   "source": [
    "#### Manage Columns"
   ]
  },
  {
   "cell_type": "code",
   "execution_count": null,
   "id": "bedbf7f9",
   "metadata": {},
   "outputs": [],
   "source": [
    "# drop unnecessary columns\n",
    "drop_cols = [\"rain_3h\", \"weather_id\", \"weather_main\", \"weather_description\", \"weather_icon\"]\n",
    "weather_df.drop(drop_cols, inplace=True, axis=1, errors=\"ignore\")"
   ]
  },
  {
   "cell_type": "markdown",
   "id": "7f052a04",
   "metadata": {},
   "source": [
    "#### Basic Transformations"
   ]
  },
  {
   "cell_type": "code",
   "execution_count": null,
   "id": "7128235a",
   "metadata": {},
   "outputs": [],
   "source": [
    "# temperature: kelvin to celsius\n",
    "temp_cols = [col for col in weather_df.columns if \"temp\" in col]\n",
    "weather_df[temp_cols] = weather_df[temp_cols].filter(like=\"temp\").applymap(lambda t: t - 273.15)"
   ]
  },
  {
   "cell_type": "code",
   "execution_count": null,
   "id": "629cfb28",
   "metadata": {},
   "outputs": [],
   "source": [
    "# convert int and float64 columns to float32\n",
    "intcols = list(weather_df.dtypes[weather_df.dtypes == np.int64].index)\n",
    "weather_df[intcols] = weather_df[intcols].applymap(np.float32)\n",
    "\n",
    "f64cols = list(weather_df.dtypes[weather_df.dtypes == np.float64].index)\n",
    "weather_df[f64cols] = weather_df[f64cols].applymap(np.float32)\n",
    "\n",
    "f32cols = list(weather_df.dtypes[weather_df.dtypes == np.float32].index)"
   ]
  },
  {
   "cell_type": "code",
   "execution_count": null,
   "id": "326ef17e",
   "metadata": {},
   "outputs": [],
   "source": [
    "weather_df.info()"
   ]
  },
  {
   "cell_type": "markdown",
   "id": "25302c77",
   "metadata": {},
   "source": [
    "#### Duplicates"
   ]
  },
  {
   "cell_type": "code",
   "execution_count": null,
   "id": "7c92eac4",
   "metadata": {},
   "outputs": [],
   "source": [
    "# Remove duplicated rows\n",
    "weather_df = (\n",
    "    weather_df\n",
    "    .reset_index()\n",
    "    .drop_duplicates(subset=[\"dt_iso\", \"city_name\"], keep=\"first\")\n",
    "    .set_index('dt_iso')\n",
    ")"
   ]
  },
  {
   "cell_type": "code",
   "execution_count": null,
   "id": "0f4656e5",
   "metadata": {},
   "outputs": [],
   "source": [
    "# Remove duplicated columns\n",
    "weather_df = weather_df.loc[:, ~weather_df.columns.duplicated(keep='first')]"
   ]
  },
  {
   "cell_type": "markdown",
   "id": "0a4bad3c",
   "metadata": {},
   "source": [
    "#### Re-group DataFrames"
   ]
  },
  {
   "cell_type": "code",
   "execution_count": null,
   "id": "754a5eb8",
   "metadata": {},
   "outputs": [],
   "source": [
    "gb_df = weather_df.groupby(\"city_name\")"
   ]
  },
  {
   "cell_type": "code",
   "execution_count": null,
   "id": "35c4335a",
   "metadata": {},
   "outputs": [],
   "source": [
    "def format_df(df: pd.DataFrame, city: str):\n",
    "    df.drop(columns=['city_name'], inplace=True)\n",
    "    return df.add_suffix(f\"_{city.replace(' ', '')}\")\n",
    "\n",
    "concat_weather_df = pd.concat(\n",
    "    [format_df(gb_df.get_group(city), city) for city in gb_df.groups.keys()],\n",
    "    axis=1\n",
    ").interpolate()"
   ]
  },
  {
   "cell_type": "code",
   "execution_count": null,
   "id": "f1e82f9b",
   "metadata": {},
   "outputs": [],
   "source": [
    "concat_weather_df.head()"
   ]
  },
  {
   "cell_type": "markdown",
   "id": "2966cfba",
   "metadata": {},
   "source": [
    "#### Extreme values"
   ]
  },
  {
   "cell_type": "code",
   "execution_count": null,
   "id": "50742770",
   "metadata": {},
   "outputs": [],
   "source": [
    "# Calculate the absolute z_scores\n",
    "num_cols = list(concat_weather_df.select_dtypes(include=['number']).columns)\n",
    "z_scores = np.abs(st.zscore(concat_weather_df[num_cols]))"
   ]
  },
  {
   "cell_type": "code",
   "execution_count": null,
   "id": "34cbcb15",
   "metadata": {},
   "outputs": [],
   "source": [
    "z_scores.head()"
   ]
  },
  {
   "cell_type": "code",
   "execution_count": null,
   "id": "eae42097",
   "metadata": {},
   "outputs": [],
   "source": [
    "# Remove values where z_score is over 2.5 stdev\n",
    "for col in num_cols:\n",
    "    concat_weather_df.loc[z_scores[col] > 2.5] = np.nan"
   ]
  },
  {
   "cell_type": "code",
   "execution_count": null,
   "id": "241ca94d",
   "metadata": {},
   "outputs": [],
   "source": [
    "# Replace outliers with mean values for that column\n",
    "means_dict = {col: concat_weather_df[col].mean() for col in num_cols}"
   ]
  },
  {
   "cell_type": "code",
   "execution_count": null,
   "id": "b299db5c",
   "metadata": {},
   "outputs": [],
   "source": [
    "concat_weather_df.fillna(value=means_dict, inplace=True)"
   ]
  },
  {
   "cell_type": "code",
   "execution_count": null,
   "id": "b8fcf4d0",
   "metadata": {},
   "outputs": [],
   "source": [
    "concat_weather_df.describe()"
   ]
  },
  {
   "cell_type": "markdown",
   "id": "fb95ae74",
   "metadata": {},
   "source": [
    "### Merge DataFrames"
   ]
  },
  {
   "cell_type": "code",
   "execution_count": null,
   "id": "3e798e1e",
   "metadata": {},
   "outputs": [],
   "source": [
    "# Energy & Weather Concat\n",
    "df = pd.concat([energy_df, concat_weather_df], axis=1)"
   ]
  },
  {
   "cell_type": "code",
   "execution_count": null,
   "id": "26c3114d",
   "metadata": {},
   "outputs": [],
   "source": [
    "df.head()"
   ]
  },
  {
   "cell_type": "code",
   "execution_count": null,
   "id": "7a88a70d",
   "metadata": {},
   "outputs": [],
   "source": [
    "df.shape"
   ]
  },
  {
   "cell_type": "code",
   "execution_count": null,
   "id": "c85f2e60",
   "metadata": {},
   "outputs": [],
   "source": [
    "df.describe()"
   ]
  },
  {
   "cell_type": "markdown",
   "id": "71c0d2c8",
   "metadata": {},
   "source": [
    "Define ***Target***"
   ]
  },
  {
   "cell_type": "code",
   "execution_count": null,
   "id": "62e3dc51",
   "metadata": {},
   "outputs": [],
   "source": [
    "y = df['price']"
   ]
  },
  {
   "cell_type": "markdown",
   "id": "513f057a",
   "metadata": {},
   "source": [
    "Define ***Features***\n",
    "- Features will be *lagged* one observation, as we will be forecasting *one period ahead*"
   ]
  },
  {
   "cell_type": "code",
   "execution_count": null,
   "id": "1f34cbf7",
   "metadata": {},
   "outputs": [],
   "source": [
    "X_forecast = pd.DataFrame(\n",
    "    index=df.index[-1:] + pd.Timedelta(minutes=60),\n",
    "    columns=df.columns.tolist()\n",
    ")"
   ]
  },
  {
   "cell_type": "code",
   "execution_count": null,
   "id": "081ea5c5",
   "metadata": {},
   "outputs": [],
   "source": [
    "X = (\n",
    "    pd.concat([df, X_forecast])\n",
    "    .shift(1)\n",
    "    .fillna(method='bfill')\n",
    "    .rename(columns={'price': 'lagged_price'})\n",
    ")"
   ]
  },
  {
   "cell_type": "code",
   "execution_count": null,
   "id": "309ea4d0",
   "metadata": {},
   "outputs": [],
   "source": [
    "X.shape"
   ]
  },
  {
   "cell_type": "code",
   "execution_count": null,
   "id": "bec723cf",
   "metadata": {},
   "outputs": [],
   "source": [
    "pd.concat([y, X[['lagged_price']]], axis=1)"
   ]
  },
  {
   "cell_type": "markdown",
   "id": "3c373492",
   "metadata": {},
   "source": [
    "# Feature Engineering"
   ]
  },
  {
   "cell_type": "markdown",
   "id": "fcfc4a38",
   "metadata": {},
   "source": [
    "### Features Analysis"
   ]
  },
  {
   "cell_type": "code",
   "execution_count": null,
   "id": "cafeec6c",
   "metadata": {},
   "outputs": [],
   "source": [
    "# Feature Correlations\n",
    "df_corr = pd.concat([y, X.loc[X.index.isin(y.index)]], axis=1).corr(method=\"pearson\")"
   ]
  },
  {
   "cell_type": "code",
   "execution_count": null,
   "id": "4a392685",
   "metadata": {},
   "outputs": [],
   "source": [
    "# Find threshold for features filtering\n",
    "thresh = np.max([np.quantile(np.abs(df_corr['price'].dropna()), 0.25), 0.1])"
   ]
  },
  {
   "cell_type": "code",
   "execution_count": null,
   "id": "def7e3b8",
   "metadata": {},
   "outputs": [],
   "source": [
    "thresh"
   ]
  },
  {
   "cell_type": "code",
   "execution_count": null,
   "id": "6697d51a",
   "metadata": {},
   "outputs": [],
   "source": [
    "# Pick top features and filter df_corr\n",
    "top_candidates = list(df_corr.loc[np.abs(df_corr['price']).sort_values() > thresh].index)"
   ]
  },
  {
   "cell_type": "code",
   "execution_count": null,
   "id": "645f73c0",
   "metadata": {},
   "outputs": [],
   "source": [
    "len(top_candidates)"
   ]
  },
  {
   "cell_type": "code",
   "execution_count": null,
   "id": "a537fe87",
   "metadata": {},
   "outputs": [],
   "source": [
    "df_corr = (\n",
    "    df_corr\n",
    "    .loc[top_candidates, top_candidates]\n",
    "    .sort_values(by=['price'], ascending=False)\n",
    "    .round(3)\n",
    ")\n",
    "\n",
    "df_corr = df_corr[df_corr.index.tolist()]"
   ]
  },
  {
   "cell_type": "code",
   "execution_count": null,
   "id": "ada59d42",
   "metadata": {},
   "outputs": [],
   "source": [
    "plt.figure(figsize = (17,17))\n",
    "sns.set(font_scale=0.75)\n",
    "ax = sns.heatmap(\n",
    "    df_corr, \n",
    "    annot=True, \n",
    "    square=True, \n",
    "    linewidths=.75, \n",
    "    cmap=\"coolwarm\", \n",
    "    fmt = \".2f\", \n",
    "    annot_kws = {\"size\": 11}\n",
    ")\n",
    "ax.xaxis.tick_bottom()\n",
    "plt.title(\"correlation matrix\")\n",
    "plt.show()"
   ]
  },
  {
   "cell_type": "code",
   "execution_count": null,
   "id": "3627546c",
   "metadata": {},
   "outputs": [],
   "source": [
    "# Plot features distributions\n",
    "X = X.filter(top_candidates)\n",
    "\n",
    "rows = int(np.ceil(X.shape[1] / 4))\n",
    "f, ax = plt.subplots(rows, 4, figsize=(20, rows*4.5), gridspec_kw={'wspace':0.5,'hspace':0.3})\n",
    "\n",
    "ax = ax.ravel()\n",
    "\n",
    "for i, col in enumerate(X):\n",
    "    sns.histplot(X[col].astype(float), ax=ax[i], kde=False)\n",
    "    ax[i].axvline(x=X[col].mean(), color='k', label='mean')\n",
    "    ax[i].axvline(x=X[col].median(), color='r', label='median')\n",
    "    \n",
    "ax[0].legend();\n",
    "ax[-2].axis('off')\n",
    "ax[-1].axis('off');"
   ]
  },
  {
   "cell_type": "markdown",
   "id": "5ced5332",
   "metadata": {},
   "source": [
    "### Feature Enrichment\n",
    "- There are multiple strategies for enriching features to boost the achievable forecast accuracy of a model.\n",
    "- This might include techniques like binning, linear combinations of some key features, laggin features, calculating moving average, exponential moing averages, etc."
   ]
  },
  {
   "cell_type": "code",
   "execution_count": null,
   "id": "50c045ab",
   "metadata": {},
   "outputs": [],
   "source": [
    "def find_optimal_seasonal_period(time_series, max_period=None):\n",
    "    if max_period is None:\n",
    "        max_period = len(time_series) // 2\n",
    "\n",
    "    # Perform seasonal decomposition using STL\n",
    "    decomposition = seasonal_decompose(time_series, period=max_period)\n",
    "\n",
    "    # Get the seasonal component\n",
    "    seasonal_component = decomposition.seasonal.dropna()\n",
    "\n",
    "    # Compute the periodogram\n",
    "    n = len(seasonal_component)\n",
    "    fft_values = np.abs(np.fft.fft(seasonal_component)) ** 2\n",
    "    fft_values = fft_values[:n // 2]\n",
    "    frequencies = np.fft.fftfreq(n, 1)\n",
    "    frequencies = frequencies[:n // 2]\n",
    "\n",
    "    # Find the index of the maximum frequency\n",
    "    max_index = np.argmax(fft_values)\n",
    "    # pprint(fft_values)\n",
    "\n",
    "    # Calculate the optimal seasonal period\n",
    "    optimal_period = int(1 / frequencies[max_index])\n",
    "\n",
    "    # Plot the periodogram (optional)\n",
    "    plt.plot(1 / frequencies, fft_values)\n",
    "    plt.xlabel('Seasonal Period')\n",
    "    plt.ylabel('Periodogram')\n",
    "    plt.title('Periodogram of Seasonal Component')\n",
    "    plt.show()\n",
    "\n",
    "    return optimal_period"
   ]
  },
  {
   "cell_type": "code",
   "execution_count": null,
   "id": "6c5fd70a",
   "metadata": {},
   "outputs": [],
   "source": [
    "sp = find_optimal_seasonal_period(y.copy(), 24*3*30)"
   ]
  },
  {
   "cell_type": "code",
   "execution_count": null,
   "id": "4b1e3251",
   "metadata": {},
   "outputs": [],
   "source": [
    "sp"
   ]
  },
  {
   "cell_type": "code",
   "execution_count": null,
   "id": "34843df4",
   "metadata": {},
   "outputs": [],
   "source": [
    "lag_periods = list(range(1, sp//2 + 1)) + [sp * i for i in range(1, sp//2 + 1)] + [24*31, 24*365]\n",
    "rolling_windows = [sp//2, sp, 2*sp]"
   ]
  },
  {
   "cell_type": "code",
   "execution_count": null,
   "id": "e98daa6e",
   "metadata": {
    "scrolled": true
   },
   "outputs": [],
   "source": [
    "lag_periods"
   ]
  },
  {
   "cell_type": "code",
   "execution_count": null,
   "id": "2924a3ff",
   "metadata": {},
   "outputs": [],
   "source": [
    "rolling_windows"
   ]
  },
  {
   "cell_type": "code",
   "execution_count": null,
   "id": "0e71b74b",
   "metadata": {},
   "outputs": [],
   "source": [
    "# Lagg Features\n",
    "def lag_df(df_: pd.DataFrame, lag: int):\n",
    "    df_[df_.columns] = df_[df_.columns].shift(lag, axis=0)\n",
    "    \n",
    "    return (\n",
    "        df_\n",
    "        .rename(columns=lambda x: f\"{x}_lag_{lag}\" if x in df_.columns else x)\n",
    "        .fillna(method='bfill')\n",
    "    )\n",
    "\n",
    "\n",
    "# Simple rolling features\n",
    "def rolling_df(df_: pd.DataFrame, window: int, agg_fun: str = 'mean'):\n",
    "    if agg_fun == 'mean':\n",
    "        df_[df_.columns] = df_.rolling(window=window).mean()\n",
    "    elif agg_fun == 'std':\n",
    "        df_[df_.columns] = df_.rolling(window=window).std()\n",
    "    elif agg_fun == 'max':\n",
    "        df_[df_.columns] = df_.rolling(window=window).max()\n",
    "    elif agg_fun == 'min':\n",
    "        df_[df_.columns] = df_.rolling(window=window).min()\n",
    "    elif agg_fun == 'min_max':\n",
    "        df_[df_.columns] = df_.rolling(window=window).max() - df_.rolling(window=window).min()\n",
    "        \n",
    "    return (\n",
    "        df_\n",
    "        .rename(columns=lambda x: f\"{x}_sm_{agg_fun}_{window}\" if x in df_.columns else x)\n",
    "        .fillna(method='bfill')\n",
    "    )\n",
    "\n",
    "\n",
    "# Exponential Moving Average\n",
    "def ema(df_: pd.DataFrame, window: int):\n",
    "    # ewm(span=window, adjust=False)\n",
    "    df_[df_.columns] = df_.ewm(span=window, adjust=False).mean()\n",
    "    \n",
    "    return (\n",
    "        df_\n",
    "        .rename(columns=lambda x: f\"{x}_ema_{window}\" if x in df_.columns else x)\n",
    "        .fillna(method='bfill')\n",
    "    )\n",
    "\n",
    "\n",
    "# Temporal Embedding Features\n",
    "def tef(df_: pd.DataFrame, dow: bool = True, dom: bool = True, hod: bool = True):\n",
    "    # Day of Week\n",
    "    if dow:\n",
    "        df_['dow_sin'] = np.sin(2 * np.pi * df_.index.dayofweek / 7)\n",
    "        df_['day_cos'] = np.cos(2 * np.pi * df_.index.dayofweek / 7)\n",
    "    \n",
    "    # Day of Month\n",
    "    if dom:\n",
    "        df_['dom_sin'] = np.sin(2 * np.pi * df_.index.day / 31)\n",
    "        df_['dam_cos'] = np.cos(2 * np.pi * df_.index.day / 31)\n",
    "        \n",
    "    # Hour of Day\n",
    "    if hod:\n",
    "        df_['hod_sin'] = np.sin(2 * np.pi * df_.index.hour / 24)\n",
    "        df_['hod_cos'] = np.cos(2 * np.pi * df_.index.hour / 24)\n",
    "        \n",
    "    return pd.concat([\n",
    "        df_.filter(like='sin', axis=1), \n",
    "        df_.filter(like='cos', axis=1)\n",
    "    ], axis=1)\n",
    "\n",
    "\n",
    "# Time Based Features\n",
    "def tbf(df_: pd.DataFrame):\n",
    "    # Time-based Features\n",
    "    df_['month'] = df_.index.month\n",
    "    df_['day'] = df_.index.day\n",
    "    df_['day_of_week'] = df_.index.dayofweek\n",
    "    df_['hour'] = df_.index.hour\n",
    "    \n",
    "    return df_[['month', 'day', 'day_of_week', 'hour']]\n",
    "\n",
    "\n",
    "# Holiday-based features\n",
    "def extract_holidays(df_: pd.DataFrame):\n",
    "    spain_holidays = holidays.CountryHoliday('ES', observed=True)\n",
    "    df_['is_holiday'] = df_.index.to_series().apply(lambda x: x.date() in spain_holidays)\n",
    "    \n",
    "    return df_[['is_holiday']]\n",
    "\n",
    "\n",
    "# Seasonal Decomposition\n",
    "def extract_stl(target: pd.DataFrame, seasonal_period: int):\n",
    "    if seasonal_period % 2 == 0:\n",
    "        seasonal_period += 1\n",
    "        \n",
    "    stl = STL(target.values, period=seasonal_period)\n",
    "    result = stl.fit()\n",
    "    \n",
    "    stl_df = pd.concat(\n",
    "        [pd.Series(result.trend), pd.Series(result.seasonal), pd.Series(result.resid)], axis=1\n",
    "    ).rename(columns={\n",
    "        0: 'stl_trend',\n",
    "        1: 'stl_season',\n",
    "        2: 'stl_resid'\n",
    "    })\n",
    "    stl_df.index = target.index\n",
    "    \n",
    "    return stl_df"
   ]
  },
  {
   "cell_type": "code",
   "execution_count": null,
   "id": "0d45e5e7",
   "metadata": {},
   "outputs": [],
   "source": [
    "lag_df = pd.concat(\n",
    "    [lag_df(X.copy(), lag=lag) for lag in lag_periods],\n",
    "    axis=1\n",
    ")"
   ]
  },
  {
   "cell_type": "code",
   "execution_count": null,
   "id": "94398c15",
   "metadata": {},
   "outputs": [],
   "source": [
    "lag_df.tail()"
   ]
  },
  {
   "cell_type": "code",
   "execution_count": null,
   "id": "4bc5aec8",
   "metadata": {},
   "outputs": [],
   "source": [
    "sma_df = pd.concat(\n",
    "    [rolling_df(X.copy(), window=window, agg_fun='mean') for window in rolling_windows],\n",
    "    axis=1\n",
    ")"
   ]
  },
  {
   "cell_type": "code",
   "execution_count": null,
   "id": "8f4892b3",
   "metadata": {},
   "outputs": [],
   "source": [
    "sma_df.tail()"
   ]
  },
  {
   "cell_type": "code",
   "execution_count": null,
   "id": "129da111",
   "metadata": {},
   "outputs": [],
   "source": [
    "sm_std_df = pd.concat(\n",
    "    [rolling_df(X.copy(), window=window, agg_fun='std') for window in rolling_windows],\n",
    "    axis=1\n",
    ")"
   ]
  },
  {
   "cell_type": "code",
   "execution_count": null,
   "id": "c85c453b",
   "metadata": {},
   "outputs": [],
   "source": [
    "sm_std_df.tail()"
   ]
  },
  {
   "cell_type": "code",
   "execution_count": null,
   "id": "9055e066",
   "metadata": {},
   "outputs": [],
   "source": [
    "sm_max_df = pd.concat(\n",
    "    [rolling_df(X.copy(), window=window, agg_fun='max') for window in rolling_windows],\n",
    "    axis=1\n",
    ")"
   ]
  },
  {
   "cell_type": "code",
   "execution_count": null,
   "id": "5c91e8b7",
   "metadata": {},
   "outputs": [],
   "source": [
    "sm_max_df.tail()"
   ]
  },
  {
   "cell_type": "code",
   "execution_count": null,
   "id": "1a800248",
   "metadata": {},
   "outputs": [],
   "source": [
    "sm_min_df = pd.concat(\n",
    "    [rolling_df(X.copy(), window=window, agg_fun='min') for window in rolling_windows],\n",
    "    axis=1\n",
    ")"
   ]
  },
  {
   "cell_type": "code",
   "execution_count": null,
   "id": "841d36ed",
   "metadata": {},
   "outputs": [],
   "source": [
    "sm_min_df.tail()"
   ]
  },
  {
   "cell_type": "code",
   "execution_count": null,
   "id": "efb1ae17",
   "metadata": {},
   "outputs": [],
   "source": [
    "sm_min_max_df = pd.concat(\n",
    "    [rolling_df(X.copy(), window=window, agg_fun='min_max') for window in rolling_windows],\n",
    "    axis=1\n",
    ")"
   ]
  },
  {
   "cell_type": "code",
   "execution_count": null,
   "id": "b2c58913",
   "metadata": {},
   "outputs": [],
   "source": [
    "sm_min_max_df.tail()"
   ]
  },
  {
   "cell_type": "code",
   "execution_count": null,
   "id": "e39a408d",
   "metadata": {},
   "outputs": [],
   "source": [
    "ema_df = pd.concat(\n",
    "    [ema(X.copy(), window=window) for window in rolling_windows],\n",
    "    axis=1\n",
    ")"
   ]
  },
  {
   "cell_type": "code",
   "execution_count": null,
   "id": "82f873f4",
   "metadata": {},
   "outputs": [],
   "source": [
    "ema_df.tail()"
   ]
  },
  {
   "cell_type": "code",
   "execution_count": null,
   "id": "92e21cbd",
   "metadata": {},
   "outputs": [],
   "source": [
    "tef_df = tef(X.copy())"
   ]
  },
  {
   "cell_type": "code",
   "execution_count": null,
   "id": "98fee426",
   "metadata": {},
   "outputs": [],
   "source": [
    "tef_df.tail()"
   ]
  },
  {
   "cell_type": "code",
   "execution_count": null,
   "id": "166eba63",
   "metadata": {},
   "outputs": [],
   "source": [
    "tbf_df = tbf(X.copy())"
   ]
  },
  {
   "cell_type": "code",
   "execution_count": null,
   "id": "2167a7f5",
   "metadata": {},
   "outputs": [],
   "source": [
    "tbf_df.tail()"
   ]
  },
  {
   "cell_type": "code",
   "execution_count": null,
   "id": "7c74e741",
   "metadata": {},
   "outputs": [],
   "source": [
    "holiday_df = extract_holidays(X.copy())"
   ]
  },
  {
   "cell_type": "code",
   "execution_count": null,
   "id": "384778f7",
   "metadata": {},
   "outputs": [],
   "source": [
    "holiday_df.tail()"
   ]
  },
  {
   "cell_type": "code",
   "execution_count": null,
   "id": "9d73513f",
   "metadata": {},
   "outputs": [],
   "source": [
    "stl_df = extract_stl(target=X['lagged_price'], seasonal_period=sp)"
   ]
  },
  {
   "cell_type": "code",
   "execution_count": null,
   "id": "64728e79",
   "metadata": {},
   "outputs": [],
   "source": [
    "stl_df.tail()"
   ]
  },
  {
   "cell_type": "code",
   "execution_count": null,
   "id": "c88d9211",
   "metadata": {},
   "outputs": [],
   "source": [
    "# Concatenate extracted DataFrames\n",
    "X = pd.concat([\n",
    "    X, lag_df, sma_df, sm_std_df, sm_max_df, sm_min_df, \n",
    "    sm_min_max_df, ema_df, tef_df, tbf_df, holiday_df, stl_df\n",
    "], axis=1)"
   ]
  },
  {
   "cell_type": "code",
   "execution_count": null,
   "id": "c37f01c6",
   "metadata": {},
   "outputs": [],
   "source": [
    "X.tail()"
   ]
  },
  {
   "cell_type": "code",
   "execution_count": null,
   "id": "b37b34de",
   "metadata": {},
   "outputs": [],
   "source": [
    "X.shape"
   ]
  },
  {
   "cell_type": "code",
   "execution_count": null,
   "id": "873af000",
   "metadata": {},
   "outputs": [],
   "source": [
    "X.isna().sum().sum()"
   ]
  },
  {
   "cell_type": "markdown",
   "id": "cc84ffcc",
   "metadata": {},
   "source": [
    "### Feature Standardizing\n",
    "- Since all features are numerical, OneHotEncoding will not be needed\n",
    "- We will use the StandardScaler to transform the numerical featuers"
   ]
  },
  {
   "cell_type": "code",
   "execution_count": null,
   "id": "011f76f8",
   "metadata": {},
   "outputs": [],
   "source": [
    "scaler = StandardScaler(with_mean=True, with_std=True)\n",
    "\n",
    "X_stand = pd.DataFrame(\n",
    "    scaler.fit_transform(X), \n",
    "    columns=X.columns,\n",
    "    index=X.index\n",
    ")"
   ]
  },
  {
   "cell_type": "code",
   "execution_count": null,
   "id": "7c97e6e6",
   "metadata": {},
   "outputs": [],
   "source": [
    "X_stand.head()"
   ]
  },
  {
   "cell_type": "markdown",
   "id": "7deefb74",
   "metadata": {},
   "source": [
    "### Feature Selection\n",
    "- Similarly to the feature enrichment section, there are multiple ways to select the best subset of features that will aid our model, without overfitting.\n",
    "- We will start by filtering features based on their correlation with the **target**\n",
    "- Then, we will then filter out **colinear** features\n",
    "- Finally, we will leverage the **sklearn.feature_selection**, **boruta** and **tsfresh** libraries to select the best features."
   ]
  },
  {
   "cell_type": "code",
   "execution_count": null,
   "id": "58b2706e",
   "metadata": {},
   "outputs": [],
   "source": [
    "# Target-Feature Correlation Based Filtering\n",
    "def target_feature_correl_filter(\n",
    "    y: pd.Series,\n",
    "    X: pd.DataFrame,\n",
    "    q_thresh: float = 0.3,\n",
    "    debug: bool = False\n",
    "):\n",
    "    # Prepare DataFrames\n",
    "    intersection = y.index.intersection(X.index)\n",
    "    num_cols = list(X.select_dtypes(include=['number']).columns)\n",
    "\n",
    "    y = y.loc[intersection]\n",
    "    X = X.loc[intersection, num_cols]\n",
    "\n",
    "    # Calculate Correlations with target\n",
    "    tf_corr_df = pd.DataFrame(columns=[y.name])\n",
    "    for c in X.columns:\n",
    "        tf_corr_df.loc[c] = [abs(y.corr(X[c]))]\n",
    "    \n",
    "    tf_corr_df = tf_corr_df.sort_values(by=[y.name], ascending=False)\n",
    "    \n",
    "    if debug:\n",
    "        print(f'{tf_corr_df.head()}\\n')\n",
    "\n",
    "    # Define threshold\n",
    "    threshold = np.quantile(tf_corr_df[y.name].dropna(), q_thresh)\n",
    "    \n",
    "    return tf_corr_df.loc[tf_corr_df[y.name] > threshold].index.tolist()"
   ]
  },
  {
   "cell_type": "code",
   "execution_count": null,
   "id": "19ecac5e",
   "metadata": {},
   "outputs": [],
   "source": [
    "X_stand.shape"
   ]
  },
  {
   "cell_type": "code",
   "execution_count": null,
   "id": "22034ef7",
   "metadata": {},
   "outputs": [],
   "source": [
    "correl_filter = target_feature_correl_filter(\n",
    "    y=y.copy(),\n",
    "    X=X_stand.copy(),\n",
    "    q_thresh=0.3,\n",
    "    debug=False\n",
    ")"
   ]
  },
  {
   "cell_type": "code",
   "execution_count": null,
   "id": "c82dabc6",
   "metadata": {},
   "outputs": [],
   "source": [
    "X_stand = X_stand.loc[:, correl_filter]"
   ]
  },
  {
   "cell_type": "code",
   "execution_count": null,
   "id": "69f898ed",
   "metadata": {},
   "outputs": [],
   "source": [
    "X_stand.shape"
   ]
  },
  {
   "cell_type": "code",
   "execution_count": null,
   "id": "1043faa0",
   "metadata": {},
   "outputs": [],
   "source": [
    "def colinear_feature_filter(\n",
    "    X: pd.DataFrame,\n",
    "    thresh: float = 0.9\n",
    "):\n",
    "    cm = pd.DataFrame(X.corr().applymap(lambda x: 100 * np.abs(x))).fillna(100)\n",
    "    filtered_features = cm.columns.tolist()\n",
    "    \n",
    "    i = 0\n",
    "    while i < len(filtered_features):\n",
    "        keep_feature = filtered_features[i]\n",
    "        skip_features = cm.loc[\n",
    "            (cm[keep_feature] < 100) &\n",
    "            (cm[keep_feature] >= thresh*100)\n",
    "        ][keep_feature].index.tolist()\n",
    "        \n",
    "        if len(skip_features) > 0:\n",
    "            filtered_features = [c for c in filtered_features if c not in skip_features]\n",
    "        i += 1\n",
    "    \n",
    "    return filtered_features"
   ]
  },
  {
   "cell_type": "code",
   "execution_count": null,
   "id": "53322884",
   "metadata": {},
   "outputs": [],
   "source": [
    "colinear_filter = colinear_feature_filter(\n",
    "    X_stand.copy(), \n",
    "    thresh=0.9\n",
    ")"
   ]
  },
  {
   "cell_type": "code",
   "execution_count": null,
   "id": "dcc09717",
   "metadata": {},
   "outputs": [],
   "source": [
    "X_stand = X_stand.loc[:, colinear_filter]"
   ]
  },
  {
   "cell_type": "code",
   "execution_count": null,
   "id": "c61658f7",
   "metadata": {},
   "outputs": [],
   "source": [
    "X_stand.shape"
   ]
  },
  {
   "cell_type": "code",
   "execution_count": null,
   "id": "d2f8db24",
   "metadata": {},
   "outputs": [],
   "source": [
    "def select_k_best_features(\n",
    "    y: pd.Series,\n",
    "    X: pd.DataFrame,\n",
    "    perc: float = 0.1\n",
    "):\n",
    "    # Prepare DataFrames\n",
    "    intersection = y.index.intersection(X.index)\n",
    "    \n",
    "    binary_features = [col for col in X.columns if X[col].nunique() == 2]\n",
    "    non_binary_features = [col for col in X.columns if X[col].nunique() > 2]\n",
    "\n",
    "    y = y.loc[intersection]\n",
    "    X_binary = X.loc[intersection, binary_features]\n",
    "    X_non_binary = X.loc[intersection, non_binary_features]\n",
    "    \n",
    "    # Prepare selected_featuers\n",
    "    selected_featuers = []\n",
    "    \n",
    "    # Select Binary Features\n",
    "    if X_binary.shape[1] > 0:\n",
    "        k = int(perc * len(binary_features))\n",
    "        \n",
    "        selector = SelectKBest(score_func=mutual_info_regression, k=k)\n",
    "        selector.fit(X_binary, y)\n",
    "\n",
    "        selected_featuers.extend(X_binary.columns[selector.get_support()].tolist())\n",
    "    \n",
    "    # Select Non-Binary Features\n",
    "    if X_non_binary.shape[1] > 0:\n",
    "        k = int(perc * len(non_binary_features))\n",
    "        \n",
    "        selector = SelectKBest(score_func=f_regression, k=k)\n",
    "        selector.fit(X_non_binary, y)\n",
    "\n",
    "        selected_featuers.extend(X_non_binary.columns[selector.get_support()].tolist())\n",
    "        \n",
    "    return selected_featuers"
   ]
  },
  {
   "cell_type": "code",
   "execution_count": null,
   "id": "8599ba28",
   "metadata": {},
   "outputs": [],
   "source": [
    "k_best_features = select_k_best_features(\n",
    "    y.copy(),\n",
    "    X_stand.copy(),\n",
    "    perc=0.2\n",
    ")"
   ]
  },
  {
   "cell_type": "code",
   "execution_count": null,
   "id": "764d7aae",
   "metadata": {},
   "outputs": [],
   "source": [
    "len(k_best_features)"
   ]
  },
  {
   "cell_type": "code",
   "execution_count": null,
   "id": "33d7024f",
   "metadata": {},
   "outputs": [],
   "source": [
    "def select_boruta_features(\n",
    "    y: pd.Series,\n",
    "    X: pd.DataFrame,\n",
    "):\n",
    "    # Prepare DataFrames\n",
    "    intersection = y.index.intersection(X.index)\n",
    "\n",
    "    y = y.loc[intersection]\n",
    "    X = X.loc[intersection]\n",
    "    \n",
    "    # Choose the model\n",
    "    model = LGBMRegressor(num_iterations=100, random_state=23111997)\n",
    "\n",
    "    # Instanciate and fit the BorutaPy estimator\n",
    "    boruta = BorutaPy(model, n_estimators='auto', verbose=0, random_state=23111997)            \n",
    "    boruta.fit(\n",
    "        np.array(X), \n",
    "        np.array(y)\n",
    "    )\n",
    "\n",
    "    # Extract features\n",
    "    return X.columns[boruta.support_].tolist()"
   ]
  },
  {
   "cell_type": "code",
   "execution_count": null,
   "id": "64f6f154",
   "metadata": {},
   "outputs": [],
   "source": [
    "boruta_features = select_boruta_features(\n",
    "    y.copy(),\n",
    "    X_stand.copy()\n",
    ")"
   ]
  },
  {
   "cell_type": "code",
   "execution_count": null,
   "id": "1b8cb82d",
   "metadata": {},
   "outputs": [],
   "source": [
    "len(boruta_features)"
   ]
  },
  {
   "cell_type": "code",
   "execution_count": null,
   "id": "84754edf",
   "metadata": {},
   "outputs": [],
   "source": [
    "def select_tsfresh_features(\n",
    "    y: pd.Series,\n",
    "    X: pd.DataFrame,\n",
    "    p_value: float = 0.01,\n",
    "    top_k: int = None\n",
    "):\n",
    "    # Prepare DataFrames\n",
    "    intersection = y.index.intersection(X.index)\n",
    "\n",
    "    y = y.loc[intersection]\n",
    "    X = X.loc[intersection]\n",
    "    \n",
    "    # Run TSFresh Feature Selection\n",
    "    relevance_table = tsf.feature_selection.relevance.calculate_relevance_table(X, y)\n",
    "    relevance_table = relevance_table[relevance_table.relevant].sort_values(\"p_value\")\n",
    "    relevance_table = relevance_table.loc[relevance_table['p_value'] < p_value]\n",
    "    \n",
    "    selected_featuers = list(relevance_table[\"feature\"].values)\n",
    "    \n",
    "    # Extract Features\n",
    "    if top_k is not None:\n",
    "        return selected_featuers[:top_k]\n",
    "    return selected_featuers"
   ]
  },
  {
   "cell_type": "code",
   "execution_count": null,
   "id": "edd7e1a9",
   "metadata": {},
   "outputs": [],
   "source": [
    "tsfresh_features = select_tsfresh_features(\n",
    "    y.copy(),\n",
    "    X_stand.copy(),\n",
    "    p_value=0.01,\n",
    "    top_k=50\n",
    ")"
   ]
  },
  {
   "cell_type": "code",
   "execution_count": null,
   "id": "ccaa53d1",
   "metadata": {},
   "outputs": [],
   "source": [
    "len(tsfresh_features)"
   ]
  },
  {
   "cell_type": "code",
   "execution_count": null,
   "id": "947b74c8",
   "metadata": {},
   "outputs": [],
   "source": [
    "# Merge Features\n",
    "selected_features = list(set(k_best_features + boruta_features + tsfresh_features))"
   ]
  },
  {
   "cell_type": "code",
   "execution_count": null,
   "id": "15dd27f7",
   "metadata": {},
   "outputs": [],
   "source": [
    "len(selected_features)"
   ]
  },
  {
   "cell_type": "code",
   "execution_count": null,
   "id": "65d7af10",
   "metadata": {},
   "outputs": [],
   "source": [
    "X_stand = X_stand.loc[:, selected_features]"
   ]
  },
  {
   "cell_type": "code",
   "execution_count": null,
   "id": "ba551e72",
   "metadata": {},
   "outputs": [],
   "source": [
    "X_stand.shape"
   ]
  },
  {
   "cell_type": "markdown",
   "id": "7d2b740f",
   "metadata": {},
   "source": [
    "### Selected Feature Analysis"
   ]
  },
  {
   "cell_type": "code",
   "execution_count": null,
   "id": "cd111888",
   "metadata": {},
   "outputs": [],
   "source": [
    "df_corr = pd.concat([y, X_stand.loc[X_stand.index.isin(y.index)]], axis=1).corr(method=\"pearson\")"
   ]
  },
  {
   "cell_type": "code",
   "execution_count": null,
   "id": "e1305e05",
   "metadata": {},
   "outputs": [],
   "source": [
    "df_corr = (\n",
    "    df_corr\n",
    "    .sort_values(by=['price'], ascending=False)\n",
    "    .round(3)\n",
    ")\n",
    "\n",
    "df_corr = df_corr[df_corr.index.tolist()]"
   ]
  },
  {
   "cell_type": "code",
   "execution_count": null,
   "id": "9f0e7e7f",
   "metadata": {},
   "outputs": [],
   "source": [
    "plt.figure(figsize = (17,17))\n",
    "sns.set(font_scale=0.75)\n",
    "ax = sns.heatmap(\n",
    "    df_corr, \n",
    "    annot=True, \n",
    "    square=True, \n",
    "    linewidths=.75, cmap=\"coolwarm\", \n",
    "    fmt = \".2f\", \n",
    "    annot_kws = {\"size\": 11}\n",
    ")\n",
    "ax.xaxis.tick_bottom()\n",
    "plt.title(\"correlation matrix\")\n",
    "plt.show()"
   ]
  },
  {
   "cell_type": "markdown",
   "id": "cf8077d2",
   "metadata": {},
   "source": [
    "# Modeling"
   ]
  },
  {
   "cell_type": "code",
   "execution_count": null,
   "id": "68740ed4",
   "metadata": {},
   "outputs": [],
   "source": [
    "# Set logging level to WARNING or higher\n",
    "logging.getLogger('cmdstanpy').setLevel(logging.WARNING)\n",
    "\n",
    "class suppress_stdout_stderr(object):\n",
    "    \"\"\"\n",
    "    A context manager for doing a \"deep suppression\" of stdout and stderr in\n",
    "    Python, i.e. will suppress all print, even if the print originates in a\n",
    "    compiled C/Fortran sub-function.\n",
    "       This will not suppress raised exceptions, since exceptions are printed\n",
    "    to stderr just before a script exits, and after the context manager has\n",
    "    exited (at least, I think that is why it lets exceptions through).\n",
    "    \"\"\"\n",
    "    def __init__(self):\n",
    "        # Open a pair of null files\n",
    "        self.null_fds = [os.open(os.devnull, os.O_RDWR) for x in range(2)]\n",
    "        # Save the actual stdout (1) and stderr (2) file descriptors.\n",
    "        self.save_fds = (os.dup(1), os.dup(2))\n",
    "\n",
    "    def __enter__(self):\n",
    "        # Assign the null pointers to stdout and stderr.\n",
    "        os.dup2(self.null_fds[0], 1)\n",
    "        os.dup2(self.null_fds[1], 2)\n",
    "\n",
    "    def __exit__(self, *_):\n",
    "        # Re-assign the real stdout/stderr back to (1) and (2)\n",
    "        os.dup2(self.save_fds[0], 1)\n",
    "        os.dup2(self.save_fds[1], 2)\n",
    "        # Close the null files\n",
    "        os.close(self.null_fds[0])\n",
    "        os.close(self.null_fds[1])"
   ]
  },
  {
   "cell_type": "code",
   "execution_count": null,
   "id": "d0360fa4",
   "metadata": {},
   "outputs": [],
   "source": [
    "class Model:\n",
    "    save_attrs = [\n",
    "        'algorithm',\n",
    "        'hyper_parameters',\n",
    "        'fitted'\n",
    "    ]\n",
    "    \n",
    "    def __init__(\n",
    "        self,\n",
    "        algorithm: str = None,\n",
    "        hyper_parameters: dict = None,\n",
    "    ) -> None:\n",
    "        self.model = None\n",
    "        self.algorithm = algorithm\n",
    "        self.hyper_parameters = None\n",
    "        if hyper_parameters is not None:\n",
    "            self.hyper_parameters = self.prepare_hyper_parameters(deepcopy(hyper_parameters))\n",
    "            \n",
    "        self.fitted = False\n",
    "        \n",
    "    def prepare_hyper_parameters(\n",
    "        self,\n",
    "        hyper_parameters: dict\n",
    "    ):\n",
    "        if self.algorithm == 'random_forest':\n",
    "            names = list(hyper_parameters.keys()).copy()\n",
    "            for param_name in names:\n",
    "                if 'random_forest.' in param_name:\n",
    "                    correct_name = param_name.replace('random_forest.', '')\n",
    "                    hyper_parameters[correct_name] = hyper_parameters.pop(param_name)\n",
    "            \n",
    "            hyper_parameters.update(**{\n",
    "                'n_jobs': -1,\n",
    "                'random_state': 23111997\n",
    "            })\n",
    "        \n",
    "        if self.algorithm == 'lightgbm':\n",
    "            names = list(hyper_parameters.keys()).copy()\n",
    "            for param_name in names:\n",
    "                if 'lightgbm.' in param_name:\n",
    "                    correct_name = param_name.replace('lightgbm.', '')\n",
    "                    hyper_parameters[correct_name] = hyper_parameters.pop(param_name)\n",
    "                \n",
    "            hyper_parameters.update(**{\n",
    "                \"objective\": 'regression',\n",
    "                \"importance_type\": 'split',\n",
    "                \"random_state\": 23111997,\n",
    "                \"n_jobs\": -1\n",
    "            })\n",
    "                \n",
    "        return hyper_parameters\n",
    "                \n",
    "    def build(\n",
    "        self,\n",
    "        train_target: pd.Series = None, \n",
    "        train_features: pd.DataFrame = None\n",
    "    ):\n",
    "        if self.algorithm == 'random_forest':\n",
    "            self.model = RandomForestRegressor(**self.hyper_parameters)\n",
    "            \n",
    "        elif self.algorithm == 'lightgbm':\n",
    "            self.model = LGBMRegressor(**self.hyper_parameters)\n",
    "            \n",
    "        elif self.algorithm == 'lstm':\n",
    "            # Define a Sequential model\n",
    "            self.model = Sequential()\n",
    "            \n",
    "            # Add first layer\n",
    "            self.model.add(LSTM(\n",
    "                self.hyper_parameters['units'],\n",
    "                input_shape=(train_features.shape[1], train_features.shape[0]), # train_features.shape[2]\n",
    "                dropout=self.hyper_parameters['dropout'], \n",
    "                recurrent_dropout=self.hyper_parameters['recurrent_dropout']\n",
    "            ))\n",
    "            \n",
    "            # Add subsequent LSTM layers\n",
    "            if self.hyper_parameters['layers'] > 1:\n",
    "                mult_list = (np.geomspace(1, 2, self.hyper_parameters['layers']+1)[::-1] - 1)[:-1]\n",
    "                for mult in mult_list[1:]:\n",
    "                    print(int(self.hyper_parameters['units'] * mult))\n",
    "                    self.model.add(LSTM(\n",
    "                        int(self.hyper_parameters['units'] * mult), \n",
    "                        dropout=self.hyper_parameters['dropout'], \n",
    "                        recurrent_dropout=self.hyper_parameters['recurrent_dropout']\n",
    "                    ))\n",
    "            \n",
    "            # Add Dense layer and compile\n",
    "            self.model.add(Dense(1))\n",
    "            \n",
    "            # Describe Optimizer\n",
    "            optimizer = Adam(\n",
    "                lr=self.hyper_parameters['lstm.learning_rate']\n",
    "            )\n",
    "            \n",
    "            self.model.compile(\n",
    "                loss=\"mse\", # \"mae\"\n",
    "                optimizer=optimizer\n",
    "            )\n",
    "        \n",
    "        self.fitted = False\n",
    "            \n",
    "    def fit(\n",
    "        self,\n",
    "        train_target: pd.Series = None, \n",
    "        train_features: pd.DataFrame = None\n",
    "    ):\n",
    "        if self.algorithm == 'random_forest':\n",
    "            self.model.fit(\n",
    "                train_features.values.astype(float), \n",
    "                train_target.values.astype(float)\n",
    "            )\n",
    "        \n",
    "        elif self.algorithm == 'lightgbm':\n",
    "            self.model.fit(\n",
    "                train_features.values.astype(float), \n",
    "                train_target.values.astype(float)\n",
    "            )\n",
    "            \n",
    "        elif self.algorithm == 'lstm':\n",
    "            early_stopping = EarlyStopping(patience=5)\n",
    "            history = self.model.fit(\n",
    "                X_train, \n",
    "                y_train, \n",
    "                epochs=20,\n",
    "                batch_size=64, # self.hyper_parameters['batch_size']\n",
    "                verbose=0,\n",
    "                callbacks=[early_stopping],\n",
    "                # use_multi_gpus=True\n",
    "            )\n",
    "            loss = history.history[\"loss\"][-1]\n",
    "            \n",
    "        self.fitted = True\n",
    "            \n",
    "    def predict(\n",
    "        self,\n",
    "        train_target: pd.Series = None,\n",
    "        forecast_features: pd.DataFrame = None, \n",
    "        forecast_dates: Iterable = None\n",
    "    ):\n",
    "        if self.algorithm == 'random_forest':\n",
    "            return self.model.predict(\n",
    "                forecast_features.values.astype(float)\n",
    "            )\n",
    "        \n",
    "        elif self.algorithm == 'lightgbm':\n",
    "            return self.model.predict(\n",
    "                forecast_features.values.astype(float)\n",
    "            )\n",
    "        \n",
    "        elif self.algorithm == 'lstm':\n",
    "            return self.model.predict(\n",
    "                forecast_features.values.astype(float)\n",
    "            )\n",
    "        \n",
    "    def save(\n",
    "        self,\n",
    "        as_champion: bool = True\n",
    "    ):\n",
    "        save_attrs = {\n",
    "            attr_name: attr_value for attr_name, attr_value in self.__dict__.items()\n",
    "            if attr_name in self.save_attrs\n",
    "        }\n",
    "        \n",
    "        if as_champion:\n",
    "            print('Saving new champion.\\n')\n",
    "            \n",
    "            # Define paths\n",
    "            model_path = os.path.join('models', 'champion', 'champion.pickle')\n",
    "            attrs_path = os.path.join('models', 'champion', 'attrs.pickle')\n",
    "            \n",
    "            \n",
    "        else:\n",
    "            print('Saving new challenger.\\n')\n",
    "            \n",
    "            # Define paths\n",
    "            model_path = os.path.join('models', 'challenger', 'challenger.pickle')\n",
    "            attrs_path = os.path.join('models', 'challenger', 'attrs.pickle')\n",
    "                \n",
    "        # Save self.model            \n",
    "        with open(model_path, 'wb') as file:\n",
    "            pickle.dump(self.model, file)\n",
    "\n",
    "        # Save attrs            \n",
    "        with open(attrs_path, 'wb') as file:\n",
    "            pickle.dump(save_attrs, file)\n",
    "            \n",
    "    def load(\n",
    "        self,\n",
    "        champion: bool = True\n",
    "    ):\n",
    "        if champion:\n",
    "            print('Loading champion.\\n')\n",
    "            \n",
    "            # Define paths\n",
    "            model_path = os.path.join('models', 'champion', 'champion.pickle')\n",
    "            attrs_path = os.path.join('models', 'champion', 'attrs.pickle')\n",
    "            \n",
    "            \n",
    "        else:\n",
    "            print('Loading challenger.\\n')\n",
    "            \n",
    "            # Define paths\n",
    "            model_path = os.path.join('models', 'challenger', 'challenger.pickle')\n",
    "            attrs_path = os.path.join('models', 'challenger', 'attrs.pickle')\n",
    "                \n",
    "        # Load self.model            \n",
    "        with open(model_path, 'rb') as file:\n",
    "            self.model = pickle.load(file)\n",
    "\n",
    "        # Load attrs            \n",
    "        with open(attrs_path, 'rb') as file:\n",
    "            attrs = pickle.load(file)\n",
    "            \n",
    "        for attr_name, attr_value in attrs.items():\n",
    "            setattr(self, attr_name, attr_value)                "
   ]
  },
  {
   "cell_type": "markdown",
   "id": "03e18d54",
   "metadata": {},
   "source": [
    "### Hyperparameter Tunning & Model Selection"
   ]
  },
  {
   "cell_type": "code",
   "execution_count": null,
   "id": "2ca79240",
   "metadata": {},
   "outputs": [],
   "source": [
    "train_periods = int(y.shape[0] * 0.8)\n",
    "test_periods = int(y.shape[0] * 0.2)\n",
    "\n",
    "X_train, X_test = X_stand.iloc[:train_periods], X_stand.iloc[train_periods:train_periods+test_periods]\n",
    "y_train, y_test = y.iloc[:train_periods], y.iloc[train_periods:train_periods+test_periods]\n",
    "X_forecast = X_stand.iloc[train_periods+test_periods:]"
   ]
  },
  {
   "cell_type": "code",
   "execution_count": null,
   "id": "430e4ea4",
   "metadata": {},
   "outputs": [],
   "source": [
    "X_train.shape, X_test.shape"
   ]
  },
  {
   "cell_type": "code",
   "execution_count": null,
   "id": "738e702e",
   "metadata": {},
   "outputs": [],
   "source": [
    "y_train.shape, y_test.shape"
   ]
  },
  {
   "cell_type": "code",
   "execution_count": null,
   "id": "55331126",
   "metadata": {},
   "outputs": [],
   "source": [
    "# Define the search space\n",
    "algorithms = [\n",
    "    'random_forest',\n",
    "    'lightgbm',\n",
    "    # 'lstm',\n",
    "]\n",
    "\n",
    "int_parameters = [\n",
    "    # random_forest\n",
    "    'random_forest.n_estimators',\n",
    "    'random_forest.max_depth',\n",
    "    'random_forest.min_samples_split',\n",
    "    \n",
    "    # lightgbm\n",
    "    'lightgbm.n_estimators',\n",
    "    'lightgbm.max_depth',\n",
    "    'lightgbm.min_child_samples',\n",
    "    'num_leaves',\n",
    "    \n",
    "    # lstm\n",
    "    'layers',\n",
    "    'units',\n",
    "    'batch_size',\n",
    "]\n",
    "\n",
    "choice_parameters = {\n",
    "    # random_forest\n",
    "    \"random_forest.max_features\": [1.0, 'sqrt'],\n",
    "    \n",
    "    # lightgbm\n",
    "    \"boosting_type\": ['gbdt', 'dart'],\n",
    "    \n",
    "    # lstm\n",
    "    \"topology\": ['classic', 'bidirectional', 'convolutional'],\n",
    "    \"units\": [16, 32, 64, 128, 256],\n",
    "    \"batch_size\": [16, 32, 64, 128, 256]\n",
    "}\n",
    "\n",
    "model_type_choices = [\n",
    "    # Random Forest Search Space\n",
    "    {\n",
    "        \"algorithm\": 'random_forest',\n",
    "        \"random_forest.n_estimators\": scope.int(hp.quniform('random_forest.n_estimators', 5, 200, 1)),\n",
    "        \"random_forest.max_depth\": scope.int(hp.quniform('random_forest.max_depth', 1, 100, 1)),\n",
    "        \"random_forest.min_samples_split\": scope.int(hp.quniform('random_forest.min_samples_split', 5, 100, 1)),\n",
    "        \"random_forest.max_features\": hp.choice('random_forest.max_features', choice_parameters['random_forest.max_features']),\n",
    "    },\n",
    "    \n",
    "    # LightGBM Search Space\n",
    "    {\n",
    "        \"algorithm\": 'lightgbm',\n",
    "        \"boosting_type\": hp.choice('boosting_type', choice_parameters['boosting_type']),\n",
    "        \"lightgbm.n_estimators\": scope.int(hp.quniform('lightgbm.n_estimators', 5, 350, 1)),\n",
    "        \"lightgbm.max_depth\": scope.int(hp.quniform('lightgbm.max_depth', 1, 175, 1)),\n",
    "        \"lightgbm.min_child_samples\": scope.int(hp.quniform('lightgbm.min_child_samples', 5, 100, 1)),\n",
    "        \"lightgbm.learning_rate\": hp.loguniform('lightgbm.learning_rate', np.log(0.001), np.log(0.3)),\n",
    "        \"num_leaves\": scope.int(hp.quniform('num_leaves', 5, 150, 1)),        \n",
    "        \"colsample_bytree\": hp.uniform('colsample_bytree', 0.5, 1)\n",
    "    },\n",
    "    \n",
    "    # LSTM Search Space\n",
    "    # {\n",
    "    #     \"algorithm\": 'lstm',\n",
    "    #     # \"topology\": hp.choice('topology', choice_parameters['topology']),\n",
    "    #     \"layers\": scope.int(hp.quniform('layers', 1, 10, 1)), \n",
    "    #     \"units\": scope.int(hp.choice('units', choice_parameters['units'])),\n",
    "    #     \"dropout\": hp.uniform('dropout', 0.0, 0.5),\n",
    "    #     \"recurrent_dropout\": hp.uniform('recurrent_dropout', 0.0, 0.5),\n",
    "    #     \"lstm.learning_rate\": hp.loguniform('lstm.learning_rate', np.log(0.001), np.log(0.1)),\n",
    "    #     # \"batch_size\": scope.int(hp.choice('batch_size', choice_parameters['batch_size'])),\n",
    "    # },\n",
    "]\n",
    "\n",
    "search_space = {\n",
    "    \"model_type\": hp.choice('model_type', model_type_choices)\n",
    "}"
   ]
  },
  {
   "cell_type": "code",
   "execution_count": null,
   "id": "da29b266",
   "metadata": {},
   "outputs": [],
   "source": [
    "# find_trials()"
   ]
  },
  {
   "cell_type": "code",
   "execution_count": null,
   "id": "92fdfb5c",
   "metadata": {},
   "outputs": [],
   "source": [
    "trials = []\n",
    "\n",
    "result = fmin(\n",
    "    fn=objective,\n",
    "    space=search_space,\n",
    "    algo=tpe.suggest,\n",
    "    # trials=find_trials(),\n",
    "    max_evals=300,\n",
    "    timeout=10 * 60, # 30 mins\n",
    "    verbose=True,\n",
    "    show_progressbar=True,\n",
    "    early_stop_fn=None\n",
    ")"
   ]
  },
  {
   "cell_type": "code",
   "execution_count": null,
   "id": "a2cbf354",
   "metadata": {},
   "outputs": [],
   "source": [
    "result"
   ]
  },
  {
   "cell_type": "code",
   "execution_count": null,
   "id": "0ba37b8d",
   "metadata": {},
   "outputs": [],
   "source": [
    "algos = [t['model_type']['algorithm'] for t in trials]\n",
    "counts = Counter(algos)\n",
    "\n",
    "for algo, reps in counts.items():\n",
    "    print(f\"{algo}: {round(reps * 100 / len(algos), 1)} %\")"
   ]
  },
  {
   "cell_type": "markdown",
   "id": "8bc1925e",
   "metadata": {},
   "source": [
    "### Model Evaluation"
   ]
  },
  {
   "cell_type": "code",
   "execution_count": null,
   "id": "da4661cd",
   "metadata": {},
   "outputs": [],
   "source": [
    "# Instanciate the \"challenger\" model"
   ]
  },
  {
   "cell_type": "code",
   "execution_count": null,
   "id": "5e170e1a",
   "metadata": {},
   "outputs": [],
   "source": [
    "def extract_challenger(results: dict):\n",
    "    def extract_parameter(k, v):\n",
    "        if k in choice_parameters:\n",
    "            v = choice_parameters[k][v]\n",
    "        if k in int_parameters:\n",
    "            v = int(v)\n",
    "        return v\n",
    "    \n",
    "    algorithm = algorithms[results['model_type']]\n",
    "    \n",
    "    hyper_parameters = {\n",
    "        k: extract_parameter(k, v) for k, v in results.items() if k not in ['algorithm', 'model_type']\n",
    "    }\n",
    "    \n",
    "    return Model(\n",
    "        algorithm=algorithm,\n",
    "        hyper_parameters=hyper_parameters\n",
    "    )"
   ]
  },
  {
   "cell_type": "code",
   "execution_count": null,
   "id": "210c6e0e",
   "metadata": {},
   "outputs": [],
   "source": [
    "challenger = extract_challenger(result)"
   ]
  },
  {
   "cell_type": "code",
   "execution_count": null,
   "id": "11fea5d6",
   "metadata": {},
   "outputs": [],
   "source": [
    "challenger"
   ]
  },
  {
   "cell_type": "code",
   "execution_count": null,
   "id": "ea3a3553",
   "metadata": {},
   "outputs": [],
   "source": [
    "# Build & Re-fit model\n",
    "challenger.build(\n",
    "    train_target=y_train, \n",
    "    train_features=X_train\n",
    ")\n",
    "\n",
    "challenger.fit(\n",
    "    train_target=y_train, \n",
    "    train_features=X_train\n",
    ")"
   ]
  },
  {
   "cell_type": "code",
   "execution_count": null,
   "id": "4cd2935d",
   "metadata": {},
   "outputs": [],
   "source": [
    "# Save Challenger\n",
    "challenger.save(as_champion=False)"
   ]
  },
  {
   "cell_type": "code",
   "execution_count": null,
   "id": "5c2023e3",
   "metadata": {},
   "outputs": [],
   "source": [
    "# Forecast Test Data\n",
    "test_pred = challenger.predict(\n",
    "    train_target=y_train, \n",
    "    forecast_features=X_test, \n",
    "    forecast_dates=X_test.index\n",
    ")"
   ]
  },
  {
   "cell_type": "code",
   "execution_count": null,
   "id": "20a6ebed",
   "metadata": {},
   "outputs": [],
   "source": [
    "# Evaluate Performance (on unseen data)"
   ]
  },
  {
   "cell_type": "code",
   "execution_count": null,
   "id": "f87ea742",
   "metadata": {},
   "outputs": [],
   "source": [
    "challenger_mape = mean_absolute_percentage_error(y_test, test_pred)"
   ]
  },
  {
   "cell_type": "code",
   "execution_count": null,
   "id": "ebf1a126",
   "metadata": {},
   "outputs": [],
   "source": [
    "challenger_mape"
   ]
  },
  {
   "cell_type": "markdown",
   "id": "bf94238c",
   "metadata": {},
   "source": [
    "### Champion Update"
   ]
  },
  {
   "cell_type": "code",
   "execution_count": null,
   "id": "dac12f92",
   "metadata": {},
   "outputs": [],
   "source": [
    "if os.path.exists(os.path.join('models', 'champion', 'champion.pickle')):\n",
    "    # Load Champion\n",
    "    champion = Model()\n",
    "    champion.load(champion=True)\n",
    "    \n",
    "    # Fit champion\n",
    "    champion.fit(\n",
    "        train_target=y_train, \n",
    "        train_features=X_train\n",
    "    )\n",
    "    \n",
    "    # Forecast test data\n",
    "    test_pred = champion.predict(\n",
    "        train_target=y_train, \n",
    "        forecast_features=X_test, \n",
    "        forecast_dates=X_test.index\n",
    "    )\n",
    "    \n",
    "    # Evaluate champion\n",
    "    champion_mape = mean_absolute_percentage_error(y_test, test_pred)\n",
    "    \n",
    "    print(f'champion_mape: {round(champion_mape*100, 2)} %\\n'\n",
    "          f'challenger_mape: {round(challenger_mape*100, 2)} %\\n')\n",
    "    \n",
    "    if challenger_mape < champion_mape:\n",
    "        challenger.save(as_champion=True)\n",
    "else:\n",
    "    challenger.save(as_champion=True)"
   ]
  },
  {
   "cell_type": "code",
   "execution_count": null,
   "id": "12014faa-e855-4e28-a812-f88a8cf16708",
   "metadata": {},
   "outputs": [],
   "source": [
    "%jupyter nbconvert --to pdf End-to-end ML Forecasting Exercise.ipynb"
   ]
  },
  {
   "cell_type": "code",
   "execution_count": null,
   "id": "65fe18f5-1850-4562-a152-e7a30c39cc9d",
   "metadata": {},
   "outputs": [],
   "source": []
  }
 ],
 "metadata": {
  "kernelspec": {
   "display_name": "Python 3 (ipykernel)",
   "language": "python",
   "name": "python3"
  },
  "language_info": {
   "codemirror_mode": {
    "name": "ipython",
    "version": 3
   },
   "file_extension": ".py",
   "mimetype": "text/x-python",
   "name": "python",
   "nbconvert_exporter": "python",
   "pygments_lexer": "ipython3",
   "version": "3.10.8"
  }
 },
 "nbformat": 4,
 "nbformat_minor": 5
}
